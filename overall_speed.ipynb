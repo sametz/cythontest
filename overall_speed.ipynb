{
 "cells": [
  {
   "cell_type": "markdown",
   "metadata": {},
   "source": [
    "This notebook is intended to be for final evaluation of \"total packages\"--hamiltonian construction and calculation of spectra."
   ]
  },
  {
   "cell_type": "code",
   "execution_count": 1,
   "metadata": {},
   "outputs": [],
   "source": [
    "import cProfile\n",
    "import os\n",
    "import sys\n",
    "import time\n",
    "import timeit"
   ]
  },
  {
   "cell_type": "code",
   "execution_count": 2,
   "metadata": {},
   "outputs": [],
   "source": [
    "import numpy as np\n",
    "from scipy.sparse.linalg import eigsh"
   ]
  },
  {
   "cell_type": "code",
   "execution_count": 3,
   "metadata": {},
   "outputs": [
    {
     "name": "stdout",
     "output_type": "stream",
     "text": [
      "Import type:  <class 'numpy.ndarray'>\n"
     ]
    }
   ],
   "source": [
    "from candidates import candidate_hamiltonian, candidate_simsignals"
   ]
  },
  {
   "cell_type": "code",
   "execution_count": 4,
   "metadata": {},
   "outputs": [],
   "source": [
    "from tests.test_simsignals import spin11, rioux"
   ]
  },
  {
   "cell_type": "markdown",
   "metadata": {},
   "source": [
    "question: what if sparse eigh is used? does it really ruin the spectrum? answer: YES, tested it. "
   ]
  },
  {
   "cell_type": "code",
   "execution_count": 5,
   "metadata": {},
   "outputs": [],
   "source": [
    "h_rioux = candidate_hamiltonian(*rioux())\n",
    "h11 = candidate_hamiltonian(*spin11())"
   ]
  },
  {
   "cell_type": "code",
   "execution_count": 6,
   "metadata": {},
   "outputs": [],
   "source": [
    "import memory_profiler\n",
    "%load_ext memory_profiler"
   ]
  },
  {
   "cell_type": "code",
   "execution_count": 7,
   "metadata": {},
   "outputs": [
    {
     "name": "stdout",
     "output_type": "stream",
     "text": [
      "\n"
     ]
    },
    {
     "data": {
      "text/plain": [
       "Filename: E:\\Geoffrey\\Documents\\GitHub\\cythontest\\tests\\test_simsignals.py\n",
       "\n",
       "Line #    Mem usage    Increment   Line Contents\n",
       "================================================\n",
       "   271    279.2 MiB    279.2 MiB   def vectorized_simsignals(H, nspins):\n",
       "   272    335.7 MiB     56.5 MiB       I, E = intensity_and_energy(H, nspins)\n",
       "   273    335.7 MiB      0.0 MiB       return new_compile_spectrum(I, E)"
      ]
     },
     "metadata": {},
     "output_type": "display_data"
    }
   ],
   "source": [
    "%mprun -f candidate_simsignals candidate_simsignals(h11, 11)"
   ]
  },
  {
   "cell_type": "code",
   "execution_count": 8,
   "metadata": {},
   "outputs": [
    {
     "name": "stdout",
     "output_type": "stream",
     "text": [
      "peak memory: 301.50 MiB, increment: 0.05 MiB\n"
     ]
    }
   ],
   "source": [
    "%memit candidate_hamiltonian(*rioux())"
   ]
  },
  {
   "cell_type": "code",
   "execution_count": 9,
   "metadata": {},
   "outputs": [
    {
     "data": {
      "text/plain": [
       "\u001b[1;31mDocstring:\u001b[0m\n",
       "Execute a statement under the line-by-line memory profiler from the\n",
       "memory_profiler module.\n",
       "\n",
       "Usage, in line mode:\n",
       "  %mprun -f func1 -f func2 <statement>\n",
       "\n",
       "Usage, in cell mode:\n",
       "  %%mprun -f func1 -f func2 [statement]\n",
       "  code...\n",
       "  code...\n",
       "\n",
       "In cell mode, the additional code lines are appended to the (possibly\n",
       "empty) statement in the first line. Cell mode allows you to easily\n",
       "profile multiline blocks without having to put them in a separate\n",
       "function.\n",
       "\n",
       "The given statement (which doesn't require quote marks) is run via the\n",
       "LineProfiler. Profiling is enabled for the functions specified by the -f\n",
       "options. The statistics will be shown side-by-side with the code through\n",
       "the pager once the statement has completed.\n",
       "\n",
       "Options:\n",
       "\n",
       "-f <function>: LineProfiler only profiles functions and methods it is told\n",
       "to profile.  This option tells the profiler about these functions. Multiple\n",
       "-f options may be used. The argument may be any expression that gives\n",
       "a Python function or method object. However, one must be careful to avoid\n",
       "spaces that may confuse the option parser. Additionally, functions defined\n",
       "in the interpreter at the In[] prompt or via %run currently cannot be\n",
       "displayed.  Write these functions out to a separate file and import them.\n",
       "\n",
       "One or more -f options are required to get any useful results.\n",
       "\n",
       "-T <filename>: dump the text-formatted statistics with the code\n",
       "side-by-side out to a text file.\n",
       "\n",
       "-r: return the LineProfiler object after it has completed profiling.\n",
       "\n",
       "-c: If present, add the memory usage of any children process to the report.\n",
       "\u001b[1;31mFile:\u001b[0m      c:\\users\\geoffrey\\miniconda3\\envs\\nmr\\lib\\site-packages\\memory_profiler.py\n"
      ]
     },
     "metadata": {},
     "output_type": "display_data"
    }
   ],
   "source": [
    "%mprun?"
   ]
  },
  {
   "cell_type": "code",
   "execution_count": 10,
   "metadata": {},
   "outputs": [
    {
     "ename": "SyntaxError",
     "evalue": "invalid syntax (<ipython-input-10-2fc982e8542c>, line 1)",
     "output_type": "error",
     "traceback": [
      "\u001b[1;36m  File \u001b[1;32m\"<ipython-input-10-2fc982e8542c>\"\u001b[1;36m, line \u001b[1;32m1\u001b[0m\n\u001b[1;33m    mprof plot\u001b[0m\n\u001b[1;37m             ^\u001b[0m\n\u001b[1;31mSyntaxError\u001b[0m\u001b[1;31m:\u001b[0m invalid syntax\n"
     ]
    }
   ],
   "source": [
    "mprof plot"
   ]
  },
  {
   "cell_type": "code",
   "execution_count": 49,
   "metadata": {},
   "outputs": [],
   "source": [
    "from pympler import tracker"
   ]
  },
  {
   "cell_type": "code",
   "execution_count": 50,
   "metadata": {},
   "outputs": [],
   "source": [
    "m = tracker.SummaryTracker()"
   ]
  },
  {
   "cell_type": "code",
   "execution_count": 52,
   "metadata": {},
   "outputs": [
    {
     "name": "stdout",
     "output_type": "stream",
     "text": [
      "                               types |   # objects |   total size\n",
      "==================================== | =========== | ============\n",
      "                         <class 'set |           0 |      6.00 KB\n",
      "                         <class 'str |           6 |    430     B\n",
      "                       <class 'tuple |           5 |    344     B\n",
      "                        <class 'list |           4 |    344     B\n",
      "  <class 'builtin_function_or_method |           3 |    216     B\n",
      "                     <class 'weakref |           2 |    160     B\n",
      "              <class 'sqlite3.Cursor |           1 |    112     B\n",
      "               <class 'list_iterator |           2 |    112     B\n",
      "                       <class 'bytes |           1 |     97     B\n",
      "                       <class 'float |           1 |     24     B\n",
      "                         <class 'int |          -1 |    -28     B\n",
      "                      <class 'method |          -1 |    -64     B\n"
     ]
    }
   ],
   "source": [
    "m.print_diff()"
   ]
  },
  {
   "cell_type": "code",
   "execution_count": 55,
   "metadata": {},
   "outputs": [
    {
     "name": "stdout",
     "output_type": "stream",
     "text": [
      "                               types |   # objects |   total size\n",
      "==================================== | =========== | ============\n",
      "                         <class 'str |           5 |    430     B\n",
      "                       <class 'bytes |           1 |     98     B\n",
      "                     <class 'weakref |           1 |     80     B\n",
      "                      <class 'method |           1 |     64     B\n",
      "                        <class 'list |           1 |     64     B\n",
      "                       <class 'float |           1 |     24     B\n",
      "                       <class 'tuple |           0 |     16     B\n",
      "  <class 'builtin_function_or_method |          -3 |   -216     B\n"
     ]
    }
   ],
   "source": [
    "_ = candidate_hamiltonian(*spin11())\n",
    "m.print_diff()"
   ]
  },
  {
   "cell_type": "code",
   "execution_count": null,
   "metadata": {},
   "outputs": [],
   "source": []
  }
 ],
 "metadata": {
  "kernelspec": {
   "display_name": "Python (nmr)",
   "language": "python",
   "name": "nmr"
  },
  "language_info": {
   "codemirror_mode": {
    "name": "ipython",
    "version": 3
   },
   "file_extension": ".py",
   "mimetype": "text/x-python",
   "name": "python",
   "nbconvert_exporter": "python",
   "pygments_lexer": "ipython3",
   "version": "3.7.3"
  }
 },
 "nbformat": 4,
 "nbformat_minor": 2
}
