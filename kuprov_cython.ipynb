{
 "cells": [
  {
   "cell_type": "markdown",
   "metadata": {},
   "source": [
    "Initial Purpose: take Kuprov algorithm (which is much slower than mine) and try to make it faster than mine with cython.\n",
    "\n",
    "Now: Maybe I can fully vectorize with numpy!"
   ]
  },
  {
   "cell_type": "code",
   "execution_count": 1,
   "metadata": {},
   "outputs": [
    {
     "name": "stdout",
     "output_type": "stream",
     "text": [
      "0.29.6\n"
     ]
    }
   ],
   "source": [
    "%load_ext cython\n",
    "import Cython\n",
    "print(Cython.__version__)\n",
    "\n",
    "import numpy as np\n"
   ]
  },
  {
   "cell_type": "code",
   "execution_count": 2,
   "metadata": {},
   "outputs": [],
   "source": [
    "from simulation_data import spin8"
   ]
  },
  {
   "cell_type": "markdown",
   "metadata": {},
   "source": [
    "Testing indicated, surprisingly, that Kuprov algorithm ~~had almost identical speeds with lil_matrix, csr_matrix, *and* regular numpy dense matrices.~~ Update: actually, switching to np.kron made the dense version ca 30x *faster* somehow! So, won't worry with cython and scipy integration, just cython and numpy."
   ]
  },
  {
   "cell_type": "markdown",
   "metadata": {},
   "source": [
    "Kuprov version of hamiltonian:"
   ]
  },
  {
   "cell_type": "code",
   "execution_count": 3,
   "metadata": {},
   "outputs": [],
   "source": [
    "def kuprov_H(v, J):\n",
    "    sigma_x = np.matrix([[0, 1 / 2], [1 / 2, 0]])\n",
    "    sigma_y = np.matrix([[0, -1j / 2], [1j / 2, 0]])\n",
    "    sigma_z = np.matrix([[1 / 2, 0], [0, -1 / 2]])\n",
    "    unit = np.matrix([[1, 0], [0, 1]])\n",
    "\n",
    "    nspins = len(v)\n",
    "    Lx = []\n",
    "    Ly = []\n",
    "    Lz = []\n",
    "\n",
    "    for n in range(nspins):\n",
    "        Lx_current = 1\n",
    "        Ly_current = 1\n",
    "        Lz_current = 1\n",
    "\n",
    "        for k in range(nspins):\n",
    "            if k == n:\n",
    "                Lx_current = np.kron(Lx_current, sigma_x)\n",
    "                Ly_current = np.kron(Ly_current, sigma_y)\n",
    "                Lz_current = np.kron(Lz_current, sigma_z)\n",
    "            else:\n",
    "                Lx_current = np.kron(Lx_current, unit)\n",
    "                Ly_current = np.kron(Ly_current, unit)\n",
    "                Lz_current = np.kron(Lz_current, unit)\n",
    "\n",
    "        Lx.append(Lx_current)\n",
    "        Ly.append(Ly_current)\n",
    "        Lz.append(Lz_current)\n",
    "#     print('test kuprov')\n",
    "#     print(Lx[0])\n",
    "#     print(Lx[1])\n",
    "#     print(Lx[0]*Lx[1])\n",
    "#     print(Lx[0]*Lx[1] + Ly[0]*Ly[1] + Lz[0]*Lz[1])\n",
    "#     print('Kuprov')\n",
    "#     print('Lx: ')\n",
    "#     print(Lx)\n",
    "#     print('Ly: ')\n",
    "#     print(Ly)\n",
    "#     print('Lz: ')\n",
    "#     print(Lz)\n",
    "        \n",
    "    H = np.zeros((2**nspins, 2**nspins), dtype=np.complex128)\n",
    "    for n in range(nspins):\n",
    "        H += v[n] * Lz[n]\n",
    "\n",
    "    for n in range(nspins):\n",
    "        for k in range(nspins):\n",
    "            if n != k:\n",
    "                H += 0.5 * J[n, k] * (Lx[n]*Lx[k] + Ly[n]*Ly[k] + Lz[n]*Lz[k])\n",
    "\n",
    "    return H"
   ]
  },
  {
   "cell_type": "code",
   "execution_count": 4,
   "metadata": {},
   "outputs": [
    {
     "name": "stdout",
     "output_type": "stream",
     "text": [
      "422 ms ± 71.1 ms per loop (mean ± std. dev. of 7 runs, 1 loop each)\n"
     ]
    },
    {
     "data": {
      "text/plain": [
       "0.4221517571427934"
      ]
     },
     "execution_count": 4,
     "metadata": {},
     "output_type": "execute_result"
    }
   ],
   "source": [
    "dense_result = %timeit -o kuprov_H(*spin8())\n",
    "dense_result.average\n"
   ]
  },
  {
   "cell_type": "code",
   "execution_count": 7,
   "metadata": {},
   "outputs": [],
   "source": [
    "DTYPE = np.complex128"
   ]
  },
  {
   "cell_type": "markdown",
   "metadata": {},
   "source": [
    "Let's try dividing the function into smaller functions. Also, let's try defining a single matrix for stacked Lx, Ly, and Lz."
   ]
  },
  {
   "cell_type": "code",
   "execution_count": 8,
   "metadata": {},
   "outputs": [],
   "source": [
    "def spin_operators(nspins):\n",
    "    sigma_x = np.array([[0, 1 / 2], [1 / 2, 0]])\n",
    "    sigma_y = np.array([[0, -1j / 2], [1j / 2, 0]])\n",
    "    sigma_z = np.array([[1 / 2, 0], [0, -1 / 2]])\n",
    "    unit = np.array([[1, 0], [0, 1]])\n",
    "\n",
    "#     Lx = []\n",
    "#     Ly = []\n",
    "#     Lz = []\n",
    "    L = np.empty((3, nspins, 2**nspins, 2**nspins), dtype=DTYPE)\n",
    "#     print(L.shape)\n",
    "    for n in range(nspins):\n",
    "        Lx_current = 1\n",
    "        Ly_current = 1\n",
    "        Lz_current = 1\n",
    "\n",
    "        for k in range(nspins):\n",
    "            if k == n:\n",
    "                Lx_current = np.kron(Lx_current, sigma_x)\n",
    "                Ly_current = np.kron(Ly_current, sigma_y)\n",
    "                Lz_current = np.kron(Lz_current, sigma_z)\n",
    "            else:\n",
    "                Lx_current = np.kron(Lx_current, unit)\n",
    "                Ly_current = np.kron(Ly_current, unit)\n",
    "                Lz_current = np.kron(Lz_current, unit)\n",
    "\n",
    "#         Lx.append(Lx_current)\n",
    "#         Ly.append(Ly_current)\n",
    "#         Lz.append(Lz_current)\n",
    "        L[0][n] = Lx_current\n",
    "        L[1][n] = Ly_current\n",
    "        L[2][n] = Lz_current\n",
    "#     print('mine')\n",
    "#     print('Lx: ')\n",
    "#     print(L[0])\n",
    "#     print('Ly: ')\n",
    "#     print(L[1])\n",
    "#     print('Lz: ')\n",
    "#     print(L[2])\n",
    "        \n",
    "    return L"
   ]
  },
  {
   "cell_type": "code",
   "execution_count": 9,
   "metadata": {},
   "outputs": [
    {
     "data": {
      "text/plain": [
       "array([[[0.+0.j , 0.+0.j , 0.-0.5j, 0.+0.j ],\n",
       "        [0.+0.j , 0.+0.j , 0.+0.j , 0.-0.5j],\n",
       "        [0.+0.5j, 0.+0.j , 0.+0.j , 0.+0.j ],\n",
       "        [0.+0.j , 0.+0.5j, 0.+0.j , 0.+0.j ]],\n",
       "\n",
       "       [[0.+0.j , 0.-0.5j, 0.+0.j , 0.-0.j ],\n",
       "        [0.+0.5j, 0.+0.j , 0.+0.j , 0.+0.j ],\n",
       "        [0.+0.j , 0.-0.j , 0.+0.j , 0.-0.5j],\n",
       "        [0.+0.j , 0.+0.j , 0.+0.5j, 0.+0.j ]]])"
      ]
     },
     "execution_count": 9,
     "metadata": {},
     "output_type": "execute_result"
    }
   ],
   "source": [
    "L = spin_operators(2)\n",
    "L[1]"
   ]
  },
  {
   "cell_type": "code",
   "execution_count": null,
   "metadata": {},
   "outputs": [],
   "source": []
  },
  {
   "cell_type": "code",
   "execution_count": 10,
   "metadata": {},
   "outputs": [],
   "source": [
    "def hamiltonian(v, J, L):\n",
    "#     H = np.zeros((2**nspins, 2**nspins), dtype=np.complex128)\n",
    "#     for n in range(nspins):\n",
    "#         H += v[n] * Lz[n]\n",
    "    nspins = len(v)\n",
    "    Lx = L[0]\n",
    "    Ly = L[1]\n",
    "    Lz = L[2]\n",
    "#     print('test mine')\n",
    "#     print(Lx[0])\n",
    "#     print(Lx[1])\n",
    "#     print(Lx[0]@Lx[1])\n",
    "#     print(Lx[0]*Lx[1] + Ly[0]*Ly[1] + Lz[0]*Lz[1])\n",
    "#     print(L[0][0])\n",
    "#     print(L[0][1])\n",
    "#     print(L[0][0]*L[0][1])\n",
    "    H = np.tensordot(v, L[2], axes=1)\n",
    "\n",
    "    for n in range(nspins):\n",
    "        for k in range(nspins):\n",
    "            if n != k:\n",
    "#                 H += 0.5 * J[n, k] * (L[0][n]*L[0][k] + L[1][n]*L[1][k] + L[2][n]*L[2][k])\n",
    "                H += 0.5 * J[n, k] * (Lx[n]@Lx[k] + Ly[n]@Ly[k] + Lz[n]@Lz[k])\n",
    "\n",
    "    return H\n",
    "    "
   ]
  },
  {
   "cell_type": "code",
   "execution_count": 11,
   "metadata": {},
   "outputs": [
    {
     "data": {
      "text/plain": [
       "array([[ 40,  82],\n",
       "       [124, 166]])"
      ]
     },
     "execution_count": 11,
     "metadata": {},
     "output_type": "execute_result"
    }
   ],
   "source": [
    "m1 = np.array([[0, 1],[2, 3]])\n",
    "m2 = np.array([[10, 20], [30, 40]])\n",
    "a = np.array([m1, m2])\n",
    "v = np.array([2, 4])\n",
    "np.tensordot(v, a, axes=1)"
   ]
  },
  {
   "cell_type": "code",
   "execution_count": 12,
   "metadata": {},
   "outputs": [
    {
     "name": "stdout",
     "output_type": "stream",
     "text": [
      "[[ 153. +0.j    0. +0.j    0. +0.j    0. +0.j]\n",
      " [   0. +0.j  -10.5+0.j    6. +0.j    0. +0.j]\n",
      " [   0. +0.j    6. +0.j    4.5+0.j    0. +0.j]\n",
      " [   0. +0.j    0. +0.j    0. +0.j -147. +0.j]]\n",
      "[[ 153. +0.j    0. +0.j    0. +0.j    0. +0.j]\n",
      " [   0. +0.j  -10.5+0.j    6. +0.j    0. +0.j]\n",
      " [   0. +0.j    6. +0.j    4.5+0.j    0. +0.j]\n",
      " [   0. +0.j    0. +0.j    0. +0.j -147. +0.j]]\n"
     ]
    }
   ],
   "source": [
    "v = np.array([142.5, 157.5])\n",
    "J = np.array([[0, 12], [12, 0]])\n",
    "L = spin_operators(2)\n",
    "H1 = kuprov_H(v, J)\n",
    "H2 = hamiltonian(v, J, L)\n",
    "print(H1)\n",
    "print(H2)"
   ]
  },
  {
   "cell_type": "code",
   "execution_count": 13,
   "metadata": {},
   "outputs": [
    {
     "data": {
      "text/plain": [
       "True"
      ]
     },
     "execution_count": 13,
     "metadata": {},
     "output_type": "execute_result"
    }
   ],
   "source": [
    "np.array_equal(H1, H2)"
   ]
  },
  {
   "cell_type": "code",
   "execution_count": 14,
   "metadata": {},
   "outputs": [
    {
     "data": {
      "text/plain": [
       "array([[[[ 0. +0.j ,  0. +0.j ,  0.5+0.j ,  0. +0.j ],\n",
       "         [ 0. +0.j ,  0. +0.j ,  0. +0.j ,  0.5+0.j ],\n",
       "         [ 0.5+0.j ,  0. +0.j ,  0. +0.j ,  0. +0.j ],\n",
       "         [ 0. +0.j ,  0.5+0.j ,  0. +0.j ,  0. +0.j ]],\n",
       "\n",
       "        [[ 0. +0.j ,  0.5+0.j ,  0. +0.j ,  0. +0.j ],\n",
       "         [ 0.5+0.j ,  0. +0.j ,  0. +0.j ,  0. +0.j ],\n",
       "         [ 0. +0.j ,  0. +0.j ,  0. +0.j ,  0.5+0.j ],\n",
       "         [ 0. +0.j ,  0. +0.j ,  0.5+0.j ,  0. +0.j ]]],\n",
       "\n",
       "\n",
       "       [[[ 0. +0.j ,  0. +0.j ,  0. -0.5j,  0. +0.j ],\n",
       "         [ 0. +0.j ,  0. +0.j ,  0. +0.j ,  0. -0.5j],\n",
       "         [ 0. +0.5j,  0. +0.j ,  0. +0.j ,  0. +0.j ],\n",
       "         [ 0. +0.j ,  0. +0.5j,  0. +0.j ,  0. +0.j ]],\n",
       "\n",
       "        [[ 0. +0.j ,  0. -0.5j,  0. +0.j ,  0. -0.j ],\n",
       "         [ 0. +0.5j,  0. +0.j ,  0. +0.j ,  0. +0.j ],\n",
       "         [ 0. +0.j ,  0. -0.j ,  0. +0.j ,  0. -0.5j],\n",
       "         [ 0. +0.j ,  0. +0.j ,  0. +0.5j,  0. +0.j ]]],\n",
       "\n",
       "\n",
       "       [[[ 0.5+0.j ,  0. +0.j ,  0. +0.j ,  0. +0.j ],\n",
       "         [ 0. +0.j ,  0.5+0.j ,  0. +0.j ,  0. +0.j ],\n",
       "         [ 0. +0.j ,  0. +0.j , -0.5+0.j , -0. +0.j ],\n",
       "         [ 0. +0.j ,  0. +0.j , -0. +0.j , -0.5+0.j ]],\n",
       "\n",
       "        [[ 0.5+0.j ,  0. +0.j ,  0. +0.j ,  0. +0.j ],\n",
       "         [ 0. +0.j , -0.5+0.j ,  0. +0.j , -0. +0.j ],\n",
       "         [ 0. +0.j ,  0. +0.j ,  0.5+0.j ,  0. +0.j ],\n",
       "         [ 0. +0.j , -0. +0.j ,  0. +0.j , -0.5+0.j ]]]])"
      ]
     },
     "execution_count": 14,
     "metadata": {},
     "output_type": "execute_result"
    }
   ],
   "source": [
    "L"
   ]
  },
  {
   "cell_type": "markdown",
   "metadata": {},
   "source": [
    "Test of math for Cartesian product of spin operators. \n",
    "Source: https://stackoverflow.com/questions/47752324/matrix-multiplication-on-4d-numpy-arrays"
   ]
  },
  {
   "cell_type": "code",
   "execution_count": 15,
   "metadata": {},
   "outputs": [],
   "source": [
    "M1 = np.full((2, 2), 1)\n",
    "M2 = np.full((2, 2), 2)\n",
    "M3 = np.full((2, 2), 3)\n",
    "M4 = np.full((2, 2), 4)\n",
    "M5 = np.full((2, 2), 5)\n",
    "M6 = np.full((2, 2), 6)"
   ]
  },
  {
   "cell_type": "code",
   "execution_count": 16,
   "metadata": {},
   "outputs": [
    {
     "name": "stdout",
     "output_type": "stream",
     "text": [
      "(3, 2, 2, 2)\n"
     ]
    }
   ],
   "source": [
    "M = np.array([[M1, M2],[M3, M4], [M5, M6]])  # the shape of a 2-spin spin operator matrix\n",
    "print(M.shape)"
   ]
  },
  {
   "cell_type": "code",
   "execution_count": 17,
   "metadata": {},
   "outputs": [
    {
     "name": "stdout",
     "output_type": "stream",
     "text": [
      "(2, 3, 2, 2)\n",
      "[[[[1 1]\n",
      "   [1 1]]\n",
      "\n",
      "  [[3 3]\n",
      "   [3 3]]\n",
      "\n",
      "  [[5 5]\n",
      "   [5 5]]]\n",
      "\n",
      "\n",
      " [[[2 2]\n",
      "   [2 2]]\n",
      "\n",
      "  [[4 4]\n",
      "   [4 4]]\n",
      "\n",
      "  [[6 6]\n",
      "   [6 6]]]]\n"
     ]
    }
   ],
   "source": [
    "M_T = M.transpose(1, 0, 2, 3)\n",
    "print(M_T.shape)\n",
    "print(M_T)"
   ]
  },
  {
   "cell_type": "code",
   "execution_count": 18,
   "metadata": {},
   "outputs": [
    {
     "data": {
      "text/plain": [
       "array([[[[1, 3, 5],\n",
       "         [2, 4, 6]],\n",
       "\n",
       "        [[1, 3, 5],\n",
       "         [2, 4, 6]]],\n",
       "\n",
       "\n",
       "       [[[1, 3, 5],\n",
       "         [2, 4, 6]],\n",
       "\n",
       "        [[1, 3, 5],\n",
       "         [2, 4, 6]]]])"
      ]
     },
     "execution_count": 18,
     "metadata": {},
     "output_type": "execute_result"
    }
   ],
   "source": [
    "M.T"
   ]
  },
  {
   "cell_type": "code",
   "execution_count": 19,
   "metadata": {},
   "outputs": [
    {
     "data": {
      "text/plain": [
       "(2, 2, 2, 2)"
      ]
     },
     "execution_count": 19,
     "metadata": {},
     "output_type": "execute_result"
    }
   ],
   "source": [
    "prod = np.tensordot(M_T, M, axes=((1,3),(0,2))).swapaxes(1,2)\n",
    "prod.shape"
   ]
  },
  {
   "cell_type": "code",
   "execution_count": 20,
   "metadata": {},
   "outputs": [
    {
     "data": {
      "text/plain": [
       "array([[[[ 70,  70],\n",
       "         [ 70,  70]],\n",
       "\n",
       "        [[ 88,  88],\n",
       "         [ 88,  88]]],\n",
       "\n",
       "\n",
       "       [[[ 88,  88],\n",
       "         [ 88,  88]],\n",
       "\n",
       "        [[112, 112],\n",
       "         [112, 112]]]])"
      ]
     },
     "execution_count": 20,
     "metadata": {},
     "output_type": "execute_result"
    }
   ],
   "source": [
    "prod\n"
   ]
  },
  {
   "cell_type": "code",
   "execution_count": 21,
   "metadata": {},
   "outputs": [],
   "source": [
    "def hamiltonian_2(v, J, L):\n",
    "    nspins = len(v)\n",
    "#     Lx = L[0]\n",
    "#     Ly = L[1]\n",
    "#     Lz = L[2]\n",
    "\n",
    "    H = np.tensordot(v, L[2], axes=1)\n",
    "    L_T = L.transpose(1, 0, 2, 3)\n",
    "    Lproduct = np.tensordot(L_T, L, axes=((1,3),(0,2))).swapaxes(1,2)\n",
    "    scalars = 0.5 * J\n",
    "#     scalars = np.multiply(scalars, Lproduct)\n",
    "#     for n in range(nspins):\n",
    "#         for k in range(nspins):\n",
    "#             H += scalars[n, k].real\n",
    "#     off_diagonal = np.tensordot(scalars, Lproduct, axes=2)\n",
    "#     print(off_diagonal.size)\n",
    "#     print(off_diagonal)\n",
    "#     H += off_diagonal\n",
    "    H += np.tensordot(scalars, Lproduct, axes=2)\n",
    "    return H"
   ]
  },
  {
   "cell_type": "code",
   "execution_count": 22,
   "metadata": {},
   "outputs": [
    {
     "data": {
      "text/plain": [
       "array([[ 153. +0.j,    0. +0.j,    0. +0.j,    0. +0.j],\n",
       "       [   0. +0.j,  -10.5+0.j,    6. +0.j,    0. +0.j],\n",
       "       [   0. +0.j,    6. +0.j,    4.5+0.j,    0. +0.j],\n",
       "       [   0. +0.j,    0. +0.j,    0. +0.j, -147. +0.j]])"
      ]
     },
     "execution_count": 22,
     "metadata": {},
     "output_type": "execute_result"
    }
   ],
   "source": [
    "H3 = hamiltonian_2(v, J, L)\n",
    "H3"
   ]
  },
  {
   "cell_type": "code",
   "execution_count": 23,
   "metadata": {},
   "outputs": [
    {
     "data": {
      "text/plain": [
       "True"
      ]
     },
     "execution_count": 23,
     "metadata": {},
     "output_type": "execute_result"
    }
   ],
   "source": [
    "np.array_equal(H1, H3)"
   ]
  },
  {
   "cell_type": "code",
   "execution_count": 24,
   "metadata": {},
   "outputs": [],
   "source": [
    "from simulation_data import spin8"
   ]
  },
  {
   "cell_type": "code",
   "execution_count": 25,
   "metadata": {},
   "outputs": [],
   "source": [
    "vtest, jtest = spin8()\n",
    "Ltest = spin_operators(8)"
   ]
  },
  {
   "cell_type": "code",
   "execution_count": 26,
   "metadata": {},
   "outputs": [
    {
     "name": "stdout",
     "output_type": "stream",
     "text": [
      "417 ms ± 24.6 ms per loop (mean ± std. dev. of 7 runs, 1 loop each)\n",
      "kuprov:  0.4167508000000453\n"
     ]
    }
   ],
   "source": [
    "kuprov_result = %timeit -o kuprov_H(vtest, jtest)\n",
    "print('kuprov: ', kuprov_result.average)"
   ]
  },
  {
   "cell_type": "code",
   "execution_count": 27,
   "metadata": {},
   "outputs": [
    {
     "name": "stdout",
     "output_type": "stream",
     "text": [
      "455 ms ± 48.7 ms per loop (mean ± std. dev. of 7 runs, 1 loop each)\n",
      "hamiltonian:  0.45512449999997834\n"
     ]
    }
   ],
   "source": [
    "H_result = %timeit -o hamiltonian(vtest, jtest, Ltest)\n",
    "print('hamiltonian: ', H_result.average)"
   ]
  },
  {
   "cell_type": "code",
   "execution_count": 28,
   "metadata": {},
   "outputs": [
    {
     "name": "stdout",
     "output_type": "stream",
     "text": [
      "356 ms ± 78.4 ms per loop (mean ± std. dev. of 7 runs, 1 loop each)\n",
      "H2:  0.35587209999968245\n"
     ]
    }
   ],
   "source": [
    "H2_result = %timeit -o hamiltonian_2(vtest, jtest, Ltest)\n",
    "print('H2: ', H2_result.average)"
   ]
  },
  {
   "cell_type": "code",
   "execution_count": 29,
   "metadata": {},
   "outputs": [
    {
     "ename": "ValueError",
     "evalue": "operands could not be broadcast together with remapped shapes [original->remapped]: (2,3,2,2)->(2,3,newaxis,newaxis) (3,2,2,2)->(3,2,newaxis,newaxis) and requested shape (2,2)",
     "output_type": "error",
     "traceback": [
      "\u001b[1;31m---------------------------------------------------------------------------\u001b[0m",
      "\u001b[1;31mValueError\u001b[0m                                Traceback (most recent call last)",
      "\u001b[1;32m<ipython-input-29-04ecbd62915e>\u001b[0m in \u001b[0;36m<module>\u001b[1;34m\u001b[0m\n\u001b[1;32m----> 1\u001b[1;33m \u001b[0mresult\u001b[0m \u001b[1;33m=\u001b[0m \u001b[0mnp\u001b[0m\u001b[1;33m.\u001b[0m\u001b[0mmatmul\u001b[0m\u001b[1;33m(\u001b[0m\u001b[0mM_T\u001b[0m\u001b[1;33m,\u001b[0m \u001b[0mM\u001b[0m\u001b[1;33m)\u001b[0m\u001b[1;33m\u001b[0m\u001b[1;33m\u001b[0m\u001b[0m\n\u001b[0m\u001b[0;32m      2\u001b[0m \u001b[0mprint\u001b[0m\u001b[1;33m(\u001b[0m\u001b[0mresult\u001b[0m\u001b[1;33m.\u001b[0m\u001b[0mshape\u001b[0m\u001b[1;33m)\u001b[0m\u001b[1;33m\u001b[0m\u001b[1;33m\u001b[0m\u001b[0m\n\u001b[0;32m      3\u001b[0m \u001b[0mprint\u001b[0m\u001b[1;33m(\u001b[0m\u001b[0mresult\u001b[0m\u001b[1;33m)\u001b[0m\u001b[1;33m\u001b[0m\u001b[1;33m\u001b[0m\u001b[0m\n",
      "\u001b[1;31mValueError\u001b[0m: operands could not be broadcast together with remapped shapes [original->remapped]: (2,3,2,2)->(2,3,newaxis,newaxis) (3,2,2,2)->(3,2,newaxis,newaxis) and requested shape (2,2)"
     ]
    }
   ],
   "source": [
    "result = np.matmul(M_T, M)\n",
    "print(result.shape)\n",
    "print(result)"
   ]
  },
  {
   "cell_type": "code",
   "execution_count": 30,
   "metadata": {},
   "outputs": [
    {
     "name": "stdout",
     "output_type": "stream",
     "text": [
      "(3, 2, 4, 4) (2, 3, 4, 4)\n"
     ]
    },
    {
     "ename": "ValueError",
     "evalue": "operands could not be broadcast together with remapped shapes [original->remapped]: (2,3,4,4)->(2,3,newaxis,newaxis) (3,2,4,4)->(3,2,newaxis,newaxis) and requested shape (4,4)",
     "output_type": "error",
     "traceback": [
      "\u001b[1;31m---------------------------------------------------------------------------\u001b[0m",
      "\u001b[1;31mValueError\u001b[0m                                Traceback (most recent call last)",
      "\u001b[1;32m<ipython-input-30-8eeaa36d8824>\u001b[0m in \u001b[0;36m<module>\u001b[1;34m\u001b[0m\n\u001b[0;32m      2\u001b[0m \u001b[0mL_T\u001b[0m \u001b[1;33m=\u001b[0m \u001b[0mL\u001b[0m\u001b[1;33m.\u001b[0m\u001b[0mtranspose\u001b[0m\u001b[1;33m(\u001b[0m\u001b[1;36m1\u001b[0m\u001b[1;33m,\u001b[0m \u001b[1;36m0\u001b[0m\u001b[1;33m,\u001b[0m \u001b[1;36m2\u001b[0m\u001b[1;33m,\u001b[0m \u001b[1;36m3\u001b[0m\u001b[1;33m)\u001b[0m\u001b[1;33m\u001b[0m\u001b[1;33m\u001b[0m\u001b[0m\n\u001b[0;32m      3\u001b[0m \u001b[0mprint\u001b[0m\u001b[1;33m(\u001b[0m\u001b[0mL\u001b[0m\u001b[1;33m.\u001b[0m\u001b[0mshape\u001b[0m\u001b[1;33m,\u001b[0m \u001b[0mL_T\u001b[0m\u001b[1;33m.\u001b[0m\u001b[0mshape\u001b[0m\u001b[1;33m)\u001b[0m\u001b[1;33m\u001b[0m\u001b[1;33m\u001b[0m\u001b[0m\n\u001b[1;32m----> 4\u001b[1;33m \u001b[0mLprod\u001b[0m \u001b[1;33m=\u001b[0m \u001b[0mnp\u001b[0m\u001b[1;33m.\u001b[0m\u001b[0mmatmul\u001b[0m\u001b[1;33m(\u001b[0m\u001b[0mL_T\u001b[0m\u001b[1;33m,\u001b[0m \u001b[0mL\u001b[0m\u001b[1;33m)\u001b[0m\u001b[1;33m\u001b[0m\u001b[1;33m\u001b[0m\u001b[0m\n\u001b[0m\u001b[0;32m      5\u001b[0m \u001b[1;31m# Lprod = L.transpose(1, 0, 2, 3)@L\u001b[0m\u001b[1;33m\u001b[0m\u001b[1;33m\u001b[0m\u001b[1;33m\u001b[0m\u001b[0m\n\u001b[0;32m      6\u001b[0m \u001b[0mLprod\u001b[0m\u001b[1;33m.\u001b[0m\u001b[0mshape\u001b[0m\u001b[1;33m\u001b[0m\u001b[1;33m\u001b[0m\u001b[0m\n",
      "\u001b[1;31mValueError\u001b[0m: operands could not be broadcast together with remapped shapes [original->remapped]: (2,3,4,4)->(2,3,newaxis,newaxis) (3,2,4,4)->(3,2,newaxis,newaxis) and requested shape (4,4)"
     ]
    }
   ],
   "source": [
    "\n",
    "L_T = L.transpose(1, 0, 2, 3) \n",
    "print(L.shape, L_T.shape)\n",
    "Lprod = np.matmul(L_T, L)\n",
    "# Lprod = L.transpose(1, 0, 2, 3)@L\n",
    "Lprod.shape"
   ]
  },
  {
   "cell_type": "code",
   "execution_count": 31,
   "metadata": {},
   "outputs": [],
   "source": [
    "def hamiltonian2(v, J, L):\n",
    "#     H = np.zeros((2**nspins, 2**nspins), dtype=np.complex128)\n",
    "#     for n in range(nspins):\n",
    "#         H += v[n] * Lz[n]\n",
    "    nspins = len(v)\n",
    "    Lx = L[0]\n",
    "    Ly = L[1]\n",
    "    Lz = L[2]\n",
    "#     print('test mine')\n",
    "#     print(Lx[0])\n",
    "#     print(Lx[1])\n",
    "#     print(Lx[0]@Lx[1])\n",
    "#     print(Lx[0]*Lx[1] + Ly[0]*Ly[1] + Lz[0]*Lz[1])\n",
    "#     print(L[0][0])\n",
    "#     print(L[0][1])\n",
    "#     print(L[0][0]*L[0][1])\n",
    "    H = np.tensordot(v, L[2], axes=1)\n",
    "    Lprod = L.transpose(1, 0, 2, 3)@L\n",
    "#     H += 0.5 * J.reshape(2**nspins) * \n",
    "    for n in range(nspins):\n",
    "        for k in range(nspins):\n",
    "            if n != k:\n",
    "#                 H += 0.5 * J[n, k] * (L[0][n]*L[0][k] + L[1][n]*L[1][k] + L[2][n]*L[2][k])\n",
    "                H += 0.5 * J[n, k] * (Lx[n]@Lx[k] + Ly[n]@Ly[k] + Lz[n]@Lz[k])\n",
    "\n",
    "    return H"
   ]
  },
  {
   "cell_type": "code",
   "execution_count": 32,
   "metadata": {},
   "outputs": [
    {
     "name": "stdout",
     "output_type": "stream",
     "text": [
      "[[ 741.25+0.j    0.  +0.j    0.  +0.j ...    0.  +0.j    0.  +0.j\n",
      "     0.  +0.j]\n",
      " [   0.  +0.j  473.75+0.j    6.  +0.j ...    0.  +0.j    0.  +0.j\n",
      "     0.  +0.j]\n",
      " [   0.  +0.j    6.  +0.j  500.25+0.j ...    0.  +0.j    0.  +0.j\n",
      "     0.  +0.j]\n",
      " ...\n",
      " [   0.  +0.j    0.  +0.j    0.  +0.j ... -494.75+0.j    6.  +0.j\n",
      "     0.  +0.j]\n",
      " [   0.  +0.j    0.  +0.j    0.  +0.j ...    6.  +0.j -471.25+0.j\n",
      "     0.  +0.j]\n",
      " [   0.  +0.j    0.  +0.j    0.  +0.j ...    0.  +0.j    0.  +0.j\n",
      "  -723.75+0.j]]\n",
      "[[ 741.25+0.j    0.  +0.j    0.  +0.j ...    0.  +0.j    0.  +0.j\n",
      "     0.  +0.j]\n",
      " [   0.  +0.j  473.75+0.j    6.  +0.j ...    0.  +0.j    0.  +0.j\n",
      "     0.  +0.j]\n",
      " [   0.  +0.j    6.  +0.j  500.25+0.j ...    0.  +0.j    0.  +0.j\n",
      "     0.  +0.j]\n",
      " ...\n",
      " [   0.  +0.j    0.  +0.j    0.  +0.j ... -494.75+0.j    6.  +0.j\n",
      "     0.  +0.j]\n",
      " [   0.  +0.j    0.  +0.j    0.  +0.j ...    6.  +0.j -471.25+0.j\n",
      "     0.  +0.j]\n",
      " [   0.  +0.j    0.  +0.j    0.  +0.j ...    0.  +0.j    0.  +0.j\n",
      "  -723.75+0.j]]\n"
     ]
    }
   ],
   "source": [
    "v, J = spin8()\n",
    "L = spin_operators(8)\n",
    "H1 = kuprov_H(v, J)\n",
    "H2 = hamiltonian(v, J, L)\n",
    "print(H1)\n",
    "print(H2)\n"
   ]
  },
  {
   "cell_type": "code",
   "execution_count": 33,
   "metadata": {},
   "outputs": [
    {
     "ename": "DistutilsPlatformError",
     "evalue": "Unable to find vcvarsall.bat",
     "output_type": "error",
     "traceback": [
      "\u001b[1;31m---------------------------------------------------------------------------\u001b[0m",
      "\u001b[1;31mDistutilsPlatformError\u001b[0m                    Traceback (most recent call last)",
      "\u001b[1;32m<ipython-input-33-a84b6dd9623b>\u001b[0m in \u001b[0;36m<module>\u001b[1;34m\u001b[0m\n\u001b[1;32m----> 1\u001b[1;33m \u001b[0mget_ipython\u001b[0m\u001b[1;33m(\u001b[0m\u001b[1;33m)\u001b[0m\u001b[1;33m.\u001b[0m\u001b[0mrun_cell_magic\u001b[0m\u001b[1;33m(\u001b[0m\u001b[1;34m'cython'\u001b[0m\u001b[1;33m,\u001b[0m \u001b[1;34m'-a'\u001b[0m\u001b[1;33m,\u001b[0m \u001b[1;34m'import numpy as np\\n\\ndef c1(v, J):\\n    sigma_x = np.matrix([[0, 1 / 2], [1 / 2, 0]])\\n    sigma_y = np.matrix([[0, -1j / 2], [1j / 2, 0]])\\n    sigma_z = np.matrix([[1 / 2, 0], [0, -1 / 2]])\\n    unit = np.matrix([[1, 0], [0, 1]])\\n\\n    cdef Py_ssize_t nspins = len(v)\\n    Lx = []\\n    Ly = []\\n    Lz = []\\n    \\n    cdef Py_ssize_t n, k\\n\\n    for n in range(nspins):\\n        Lx_current = 1\\n        Ly_current = 1\\n        Lz_current = 1\\n\\n        for k in range(nspins):\\n            if k == n:\\n                Lx_current = np.kron(Lx_current, sigma_x)\\n                Ly_current = np.kron(Ly_current, sigma_y)\\n                Lz_current = np.kron(Lz_current, sigma_z)\\n            else:\\n                Lx_current = np.kron(Lx_current, unit)\\n                Ly_current = np.kron(Ly_current, unit)\\n                Lz_current = np.kron(Lz_current, unit)\\n\\n        Lx.append(Lx_current)\\n        Ly.append(Ly_current)\\n        Lz.append(Lz_current)\\n\\n    H = np.zeros((2**nspins, 2**nspins), dtype=np.complex128)\\n    for n in range(nspins):\\n        H += v[n] * Lz[n]\\n\\n    for n in range(nspins):\\n        for k in range(nspins):\\n            if n != k:\\n                H += 0.5 * J[n, k] * (Lx[n]*Lx[k] + Ly[n]*Ly[k] + Lz[n]*Lz[k])\\n\\n    return H\\n'\u001b[0m\u001b[1;33m)\u001b[0m\u001b[1;33m\u001b[0m\u001b[1;33m\u001b[0m\u001b[0m\n\u001b[0m",
      "\u001b[1;32m~\\Miniconda3\\envs\\nmr\\lib\\site-packages\\IPython\\core\\interactiveshell.py\u001b[0m in \u001b[0;36mrun_cell_magic\u001b[1;34m(self, magic_name, line, cell)\u001b[0m\n\u001b[0;32m   2350\u001b[0m             \u001b[1;32mwith\u001b[0m \u001b[0mself\u001b[0m\u001b[1;33m.\u001b[0m\u001b[0mbuiltin_trap\u001b[0m\u001b[1;33m:\u001b[0m\u001b[1;33m\u001b[0m\u001b[1;33m\u001b[0m\u001b[0m\n\u001b[0;32m   2351\u001b[0m                 \u001b[0margs\u001b[0m \u001b[1;33m=\u001b[0m \u001b[1;33m(\u001b[0m\u001b[0mmagic_arg_s\u001b[0m\u001b[1;33m,\u001b[0m \u001b[0mcell\u001b[0m\u001b[1;33m)\u001b[0m\u001b[1;33m\u001b[0m\u001b[1;33m\u001b[0m\u001b[0m\n\u001b[1;32m-> 2352\u001b[1;33m                 \u001b[0mresult\u001b[0m \u001b[1;33m=\u001b[0m \u001b[0mfn\u001b[0m\u001b[1;33m(\u001b[0m\u001b[1;33m*\u001b[0m\u001b[0margs\u001b[0m\u001b[1;33m,\u001b[0m \u001b[1;33m**\u001b[0m\u001b[0mkwargs\u001b[0m\u001b[1;33m)\u001b[0m\u001b[1;33m\u001b[0m\u001b[1;33m\u001b[0m\u001b[0m\n\u001b[0m\u001b[0;32m   2353\u001b[0m             \u001b[1;32mreturn\u001b[0m \u001b[0mresult\u001b[0m\u001b[1;33m\u001b[0m\u001b[1;33m\u001b[0m\u001b[0m\n\u001b[0;32m   2354\u001b[0m \u001b[1;33m\u001b[0m\u001b[0m\n",
      "\u001b[1;32m<C:\\Users\\Geoffrey\\Miniconda3\\envs\\nmr\\lib\\site-packages\\decorator.py:decorator-gen-129>\u001b[0m in \u001b[0;36mcython\u001b[1;34m(self, line, cell)\u001b[0m\n",
      "\u001b[1;32m~\\Miniconda3\\envs\\nmr\\lib\\site-packages\\IPython\\core\\magic.py\u001b[0m in \u001b[0;36m<lambda>\u001b[1;34m(f, *a, **k)\u001b[0m\n\u001b[0;32m    185\u001b[0m     \u001b[1;31m# but it's overkill for just that one bit of state.\u001b[0m\u001b[1;33m\u001b[0m\u001b[1;33m\u001b[0m\u001b[1;33m\u001b[0m\u001b[0m\n\u001b[0;32m    186\u001b[0m     \u001b[1;32mdef\u001b[0m \u001b[0mmagic_deco\u001b[0m\u001b[1;33m(\u001b[0m\u001b[0marg\u001b[0m\u001b[1;33m)\u001b[0m\u001b[1;33m:\u001b[0m\u001b[1;33m\u001b[0m\u001b[1;33m\u001b[0m\u001b[0m\n\u001b[1;32m--> 187\u001b[1;33m         \u001b[0mcall\u001b[0m \u001b[1;33m=\u001b[0m \u001b[1;32mlambda\u001b[0m \u001b[0mf\u001b[0m\u001b[1;33m,\u001b[0m \u001b[1;33m*\u001b[0m\u001b[0ma\u001b[0m\u001b[1;33m,\u001b[0m \u001b[1;33m**\u001b[0m\u001b[0mk\u001b[0m\u001b[1;33m:\u001b[0m \u001b[0mf\u001b[0m\u001b[1;33m(\u001b[0m\u001b[1;33m*\u001b[0m\u001b[0ma\u001b[0m\u001b[1;33m,\u001b[0m \u001b[1;33m**\u001b[0m\u001b[0mk\u001b[0m\u001b[1;33m)\u001b[0m\u001b[1;33m\u001b[0m\u001b[1;33m\u001b[0m\u001b[0m\n\u001b[0m\u001b[0;32m    188\u001b[0m \u001b[1;33m\u001b[0m\u001b[0m\n\u001b[0;32m    189\u001b[0m         \u001b[1;32mif\u001b[0m \u001b[0mcallable\u001b[0m\u001b[1;33m(\u001b[0m\u001b[0marg\u001b[0m\u001b[1;33m)\u001b[0m\u001b[1;33m:\u001b[0m\u001b[1;33m\u001b[0m\u001b[1;33m\u001b[0m\u001b[0m\n",
      "\u001b[1;32m~\\Miniconda3\\envs\\nmr\\lib\\site-packages\\Cython\\Build\\IpythonMagic.py\u001b[0m in \u001b[0;36mcython\u001b[1;34m(self, line, cell)\u001b[0m\n\u001b[0;32m    331\u001b[0m \u001b[1;33m\u001b[0m\u001b[0m\n\u001b[0;32m    332\u001b[0m         self._build_extension(extension, lib_dir, pgo_step_name='use' if args.pgo else None,\n\u001b[1;32m--> 333\u001b[1;33m                               quiet=args.quiet)\n\u001b[0m\u001b[0;32m    334\u001b[0m \u001b[1;33m\u001b[0m\u001b[0m\n\u001b[0;32m    335\u001b[0m         \u001b[0mmodule\u001b[0m \u001b[1;33m=\u001b[0m \u001b[0mimp\u001b[0m\u001b[1;33m.\u001b[0m\u001b[0mload_dynamic\u001b[0m\u001b[1;33m(\u001b[0m\u001b[0mmodule_name\u001b[0m\u001b[1;33m,\u001b[0m \u001b[0mmodule_path\u001b[0m\u001b[1;33m)\u001b[0m\u001b[1;33m\u001b[0m\u001b[1;33m\u001b[0m\u001b[0m\n",
      "\u001b[1;32m~\\Miniconda3\\envs\\nmr\\lib\\site-packages\\Cython\\Build\\IpythonMagic.py\u001b[0m in \u001b[0;36m_build_extension\u001b[1;34m(self, extension, lib_dir, temp_dir, pgo_step_name, quiet)\u001b[0m\n\u001b[0;32m    441\u001b[0m             \u001b[1;32mif\u001b[0m \u001b[1;32mnot\u001b[0m \u001b[0mquiet\u001b[0m\u001b[1;33m:\u001b[0m\u001b[1;33m\u001b[0m\u001b[1;33m\u001b[0m\u001b[0m\n\u001b[0;32m    442\u001b[0m                 \u001b[0mold_threshold\u001b[0m \u001b[1;33m=\u001b[0m \u001b[0mdistutils\u001b[0m\u001b[1;33m.\u001b[0m\u001b[0mlog\u001b[0m\u001b[1;33m.\u001b[0m\u001b[0mset_threshold\u001b[0m\u001b[1;33m(\u001b[0m\u001b[0mdistutils\u001b[0m\u001b[1;33m.\u001b[0m\u001b[0mlog\u001b[0m\u001b[1;33m.\u001b[0m\u001b[0mDEBUG\u001b[0m\u001b[1;33m)\u001b[0m\u001b[1;33m\u001b[0m\u001b[1;33m\u001b[0m\u001b[0m\n\u001b[1;32m--> 443\u001b[1;33m             \u001b[0mbuild_extension\u001b[0m\u001b[1;33m.\u001b[0m\u001b[0mrun\u001b[0m\u001b[1;33m(\u001b[0m\u001b[1;33m)\u001b[0m\u001b[1;33m\u001b[0m\u001b[1;33m\u001b[0m\u001b[0m\n\u001b[0m\u001b[0;32m    444\u001b[0m         \u001b[1;32mfinally\u001b[0m\u001b[1;33m:\u001b[0m\u001b[1;33m\u001b[0m\u001b[1;33m\u001b[0m\u001b[0m\n\u001b[0;32m    445\u001b[0m             \u001b[1;32mif\u001b[0m \u001b[1;32mnot\u001b[0m \u001b[0mquiet\u001b[0m \u001b[1;32mand\u001b[0m \u001b[0mold_threshold\u001b[0m \u001b[1;32mis\u001b[0m \u001b[1;32mnot\u001b[0m \u001b[1;32mNone\u001b[0m\u001b[1;33m:\u001b[0m\u001b[1;33m\u001b[0m\u001b[1;33m\u001b[0m\u001b[0m\n",
      "\u001b[1;32m~\\Miniconda3\\envs\\nmr\\lib\\distutils\\command\\build_ext.py\u001b[0m in \u001b[0;36mrun\u001b[1;34m(self)\u001b[0m\n\u001b[0;32m    338\u001b[0m \u001b[1;33m\u001b[0m\u001b[0m\n\u001b[0;32m    339\u001b[0m         \u001b[1;31m# Now actually compile and link everything.\u001b[0m\u001b[1;33m\u001b[0m\u001b[1;33m\u001b[0m\u001b[1;33m\u001b[0m\u001b[0m\n\u001b[1;32m--> 340\u001b[1;33m         \u001b[0mself\u001b[0m\u001b[1;33m.\u001b[0m\u001b[0mbuild_extensions\u001b[0m\u001b[1;33m(\u001b[0m\u001b[1;33m)\u001b[0m\u001b[1;33m\u001b[0m\u001b[1;33m\u001b[0m\u001b[0m\n\u001b[0m\u001b[0;32m    341\u001b[0m \u001b[1;33m\u001b[0m\u001b[0m\n\u001b[0;32m    342\u001b[0m     \u001b[1;32mdef\u001b[0m \u001b[0mcheck_extensions_list\u001b[0m\u001b[1;33m(\u001b[0m\u001b[0mself\u001b[0m\u001b[1;33m,\u001b[0m \u001b[0mextensions\u001b[0m\u001b[1;33m)\u001b[0m\u001b[1;33m:\u001b[0m\u001b[1;33m\u001b[0m\u001b[1;33m\u001b[0m\u001b[0m\n",
      "\u001b[1;32m~\\Miniconda3\\envs\\nmr\\lib\\distutils\\command\\build_ext.py\u001b[0m in \u001b[0;36mbuild_extensions\u001b[1;34m(self)\u001b[0m\n\u001b[0;32m    447\u001b[0m             \u001b[0mself\u001b[0m\u001b[1;33m.\u001b[0m\u001b[0m_build_extensions_parallel\u001b[0m\u001b[1;33m(\u001b[0m\u001b[1;33m)\u001b[0m\u001b[1;33m\u001b[0m\u001b[1;33m\u001b[0m\u001b[0m\n\u001b[0;32m    448\u001b[0m         \u001b[1;32melse\u001b[0m\u001b[1;33m:\u001b[0m\u001b[1;33m\u001b[0m\u001b[1;33m\u001b[0m\u001b[0m\n\u001b[1;32m--> 449\u001b[1;33m             \u001b[0mself\u001b[0m\u001b[1;33m.\u001b[0m\u001b[0m_build_extensions_serial\u001b[0m\u001b[1;33m(\u001b[0m\u001b[1;33m)\u001b[0m\u001b[1;33m\u001b[0m\u001b[1;33m\u001b[0m\u001b[0m\n\u001b[0m\u001b[0;32m    450\u001b[0m \u001b[1;33m\u001b[0m\u001b[0m\n\u001b[0;32m    451\u001b[0m     \u001b[1;32mdef\u001b[0m \u001b[0m_build_extensions_parallel\u001b[0m\u001b[1;33m(\u001b[0m\u001b[0mself\u001b[0m\u001b[1;33m)\u001b[0m\u001b[1;33m:\u001b[0m\u001b[1;33m\u001b[0m\u001b[1;33m\u001b[0m\u001b[0m\n",
      "\u001b[1;32m~\\Miniconda3\\envs\\nmr\\lib\\distutils\\command\\build_ext.py\u001b[0m in \u001b[0;36m_build_extensions_serial\u001b[1;34m(self)\u001b[0m\n\u001b[0;32m    472\u001b[0m         \u001b[1;32mfor\u001b[0m \u001b[0mext\u001b[0m \u001b[1;32min\u001b[0m \u001b[0mself\u001b[0m\u001b[1;33m.\u001b[0m\u001b[0mextensions\u001b[0m\u001b[1;33m:\u001b[0m\u001b[1;33m\u001b[0m\u001b[1;33m\u001b[0m\u001b[0m\n\u001b[0;32m    473\u001b[0m             \u001b[1;32mwith\u001b[0m \u001b[0mself\u001b[0m\u001b[1;33m.\u001b[0m\u001b[0m_filter_build_errors\u001b[0m\u001b[1;33m(\u001b[0m\u001b[0mext\u001b[0m\u001b[1;33m)\u001b[0m\u001b[1;33m:\u001b[0m\u001b[1;33m\u001b[0m\u001b[1;33m\u001b[0m\u001b[0m\n\u001b[1;32m--> 474\u001b[1;33m                 \u001b[0mself\u001b[0m\u001b[1;33m.\u001b[0m\u001b[0mbuild_extension\u001b[0m\u001b[1;33m(\u001b[0m\u001b[0mext\u001b[0m\u001b[1;33m)\u001b[0m\u001b[1;33m\u001b[0m\u001b[1;33m\u001b[0m\u001b[0m\n\u001b[0m\u001b[0;32m    475\u001b[0m \u001b[1;33m\u001b[0m\u001b[0m\n\u001b[0;32m    476\u001b[0m     \u001b[1;33m@\u001b[0m\u001b[0mcontextlib\u001b[0m\u001b[1;33m.\u001b[0m\u001b[0mcontextmanager\u001b[0m\u001b[1;33m\u001b[0m\u001b[1;33m\u001b[0m\u001b[0m\n",
      "\u001b[1;32m~\\Miniconda3\\envs\\nmr\\lib\\distutils\\command\\build_ext.py\u001b[0m in \u001b[0;36mbuild_extension\u001b[1;34m(self, ext)\u001b[0m\n\u001b[0;32m    532\u001b[0m                                          \u001b[0mdebug\u001b[0m\u001b[1;33m=\u001b[0m\u001b[0mself\u001b[0m\u001b[1;33m.\u001b[0m\u001b[0mdebug\u001b[0m\u001b[1;33m,\u001b[0m\u001b[1;33m\u001b[0m\u001b[1;33m\u001b[0m\u001b[0m\n\u001b[0;32m    533\u001b[0m                                          \u001b[0mextra_postargs\u001b[0m\u001b[1;33m=\u001b[0m\u001b[0mextra_args\u001b[0m\u001b[1;33m,\u001b[0m\u001b[1;33m\u001b[0m\u001b[1;33m\u001b[0m\u001b[0m\n\u001b[1;32m--> 534\u001b[1;33m                                          depends=ext.depends)\n\u001b[0m\u001b[0;32m    535\u001b[0m \u001b[1;33m\u001b[0m\u001b[0m\n\u001b[0;32m    536\u001b[0m         \u001b[1;31m# XXX outdated variable, kept here in case third-part code\u001b[0m\u001b[1;33m\u001b[0m\u001b[1;33m\u001b[0m\u001b[1;33m\u001b[0m\u001b[0m\n",
      "\u001b[1;32m~\\Miniconda3\\envs\\nmr\\lib\\distutils\\_msvccompiler.py\u001b[0m in \u001b[0;36mcompile\u001b[1;34m(self, sources, output_dir, macros, include_dirs, debug, extra_preargs, extra_postargs, depends)\u001b[0m\n\u001b[0;32m    344\u001b[0m \u001b[1;33m\u001b[0m\u001b[0m\n\u001b[0;32m    345\u001b[0m         \u001b[1;32mif\u001b[0m \u001b[1;32mnot\u001b[0m \u001b[0mself\u001b[0m\u001b[1;33m.\u001b[0m\u001b[0minitialized\u001b[0m\u001b[1;33m:\u001b[0m\u001b[1;33m\u001b[0m\u001b[1;33m\u001b[0m\u001b[0m\n\u001b[1;32m--> 346\u001b[1;33m             \u001b[0mself\u001b[0m\u001b[1;33m.\u001b[0m\u001b[0minitialize\u001b[0m\u001b[1;33m(\u001b[0m\u001b[1;33m)\u001b[0m\u001b[1;33m\u001b[0m\u001b[1;33m\u001b[0m\u001b[0m\n\u001b[0m\u001b[0;32m    347\u001b[0m         compile_info = self._setup_compile(output_dir, macros, include_dirs,\n\u001b[0;32m    348\u001b[0m                                            sources, depends, extra_postargs)\n",
      "\u001b[1;32m~\\Miniconda3\\envs\\nmr\\lib\\distutils\\_msvccompiler.py\u001b[0m in \u001b[0;36minitialize\u001b[1;34m(self, plat_name)\u001b[0m\n\u001b[0;32m    237\u001b[0m         \u001b[0mplat_spec\u001b[0m \u001b[1;33m=\u001b[0m \u001b[0mPLAT_TO_VCVARS\u001b[0m\u001b[1;33m[\u001b[0m\u001b[0mplat_name\u001b[0m\u001b[1;33m]\u001b[0m\u001b[1;33m\u001b[0m\u001b[1;33m\u001b[0m\u001b[0m\n\u001b[0;32m    238\u001b[0m \u001b[1;33m\u001b[0m\u001b[0m\n\u001b[1;32m--> 239\u001b[1;33m         \u001b[0mvc_env\u001b[0m \u001b[1;33m=\u001b[0m \u001b[0m_get_vc_env\u001b[0m\u001b[1;33m(\u001b[0m\u001b[0mplat_spec\u001b[0m\u001b[1;33m)\u001b[0m\u001b[1;33m\u001b[0m\u001b[1;33m\u001b[0m\u001b[0m\n\u001b[0m\u001b[0;32m    240\u001b[0m         \u001b[1;32mif\u001b[0m \u001b[1;32mnot\u001b[0m \u001b[0mvc_env\u001b[0m\u001b[1;33m:\u001b[0m\u001b[1;33m\u001b[0m\u001b[1;33m\u001b[0m\u001b[0m\n\u001b[0;32m    241\u001b[0m             raise DistutilsPlatformError(\"Unable to find a compatible \"\n",
      "\u001b[1;32m~\\Miniconda3\\envs\\nmr\\lib\\distutils\\_msvccompiler.py\u001b[0m in \u001b[0;36m_get_vc_env\u001b[1;34m(plat_spec)\u001b[0m\n\u001b[0;32m    133\u001b[0m     \u001b[0mvcvarsall\u001b[0m\u001b[1;33m,\u001b[0m \u001b[0mvcruntime\u001b[0m \u001b[1;33m=\u001b[0m \u001b[0m_find_vcvarsall\u001b[0m\u001b[1;33m(\u001b[0m\u001b[0mplat_spec\u001b[0m\u001b[1;33m)\u001b[0m\u001b[1;33m\u001b[0m\u001b[1;33m\u001b[0m\u001b[0m\n\u001b[0;32m    134\u001b[0m     \u001b[1;32mif\u001b[0m \u001b[1;32mnot\u001b[0m \u001b[0mvcvarsall\u001b[0m\u001b[1;33m:\u001b[0m\u001b[1;33m\u001b[0m\u001b[1;33m\u001b[0m\u001b[0m\n\u001b[1;32m--> 135\u001b[1;33m         \u001b[1;32mraise\u001b[0m \u001b[0mDistutilsPlatformError\u001b[0m\u001b[1;33m(\u001b[0m\u001b[1;34m\"Unable to find vcvarsall.bat\"\u001b[0m\u001b[1;33m)\u001b[0m\u001b[1;33m\u001b[0m\u001b[1;33m\u001b[0m\u001b[0m\n\u001b[0m\u001b[0;32m    136\u001b[0m \u001b[1;33m\u001b[0m\u001b[0m\n\u001b[0;32m    137\u001b[0m     \u001b[1;32mtry\u001b[0m\u001b[1;33m:\u001b[0m\u001b[1;33m\u001b[0m\u001b[1;33m\u001b[0m\u001b[0m\n",
      "\u001b[1;31mDistutilsPlatformError\u001b[0m: Unable to find vcvarsall.bat"
     ]
    }
   ],
   "source": [
    "%%cython -a\n",
    "import numpy as np\n",
    "\n",
    "def c1(v, J):\n",
    "    sigma_x = np.matrix([[0, 1 / 2], [1 / 2, 0]])\n",
    "    sigma_y = np.matrix([[0, -1j / 2], [1j / 2, 0]])\n",
    "    sigma_z = np.matrix([[1 / 2, 0], [0, -1 / 2]])\n",
    "    unit = np.matrix([[1, 0], [0, 1]])\n",
    "\n",
    "    cdef Py_ssize_t nspins = len(v)\n",
    "    Lx = []\n",
    "    Ly = []\n",
    "    Lz = []\n",
    "    \n",
    "    cdef Py_ssize_t n, k\n",
    "\n",
    "    for n in range(nspins):\n",
    "        Lx_current = 1\n",
    "        Ly_current = 1\n",
    "        Lz_current = 1\n",
    "\n",
    "        for k in range(nspins):\n",
    "            if k == n:\n",
    "                Lx_current = np.kron(Lx_current, sigma_x)\n",
    "                Ly_current = np.kron(Ly_current, sigma_y)\n",
    "                Lz_current = np.kron(Lz_current, sigma_z)\n",
    "            else:\n",
    "                Lx_current = np.kron(Lx_current, unit)\n",
    "                Ly_current = np.kron(Ly_current, unit)\n",
    "                Lz_current = np.kron(Lz_current, unit)\n",
    "\n",
    "        Lx.append(Lx_current)\n",
    "        Ly.append(Ly_current)\n",
    "        Lz.append(Lz_current)\n",
    "\n",
    "    H = np.zeros((2**nspins, 2**nspins), dtype=np.complex128)\n",
    "    for n in range(nspins):\n",
    "        H += v[n] * Lz[n]\n",
    "\n",
    "    for n in range(nspins):\n",
    "        for k in range(nspins):\n",
    "            if n != k:\n",
    "                H += 0.5 * J[n, k] * (Lx[n]*Lx[k] + Ly[n]*Ly[k] + Lz[n]*Lz[k])\n",
    "\n",
    "    return H"
   ]
  },
  {
   "cell_type": "code",
   "execution_count": 34,
   "metadata": {},
   "outputs": [],
   "source": [
    "from speedtest.kuprov import kuprov_H_dense"
   ]
  },
  {
   "cell_type": "code",
   "execution_count": 35,
   "metadata": {},
   "outputs": [
    {
     "name": "stdout",
     "output_type": "stream",
     "text": [
      "467 ms ± 70.3 ms per loop (mean ± std. dev. of 7 runs, 1 loop each)\n"
     ]
    },
    {
     "data": {
      "text/plain": [
       "0.4667303428572528"
      ]
     },
     "execution_count": 35,
     "metadata": {},
     "output_type": "execute_result"
    }
   ],
   "source": [
    "dense_result = %timeit -o kuprov_H_dense(*spin8())\n",
    "dense_result.average"
   ]
  },
  {
   "cell_type": "code",
   "execution_count": 36,
   "metadata": {},
   "outputs": [],
   "source": [
    "a = np.array([[1, 7], [4, 3]]) \n",
    "b = np.array([[2, 9], [4, 5]]) \n",
    "c = np.array([[3, 6], [1, 0]]) \n",
    "d = np.array([[2, 8], [1, 2]]) \n",
    "e = np.array([[0, 0], [1, 2]])\n",
    "f = np.array([[2, 8], [1, 0]])\n",
    "\n",
    "m = np.array([[a, b], [c, d]])              # (2,2,2,2)\n",
    "n = np.array([[e, f, a], [b, d, c]])        # (2,3,2,2)"
   ]
  },
  {
   "cell_type": "code",
   "execution_count": 37,
   "metadata": {},
   "outputs": [],
   "source": [
    "mn = np.tensordot(m,n, axes=([1,3],[0,2]))"
   ]
  },
  {
   "cell_type": "code",
   "execution_count": 38,
   "metadata": {},
   "outputs": [
    {
     "data": {
      "text/plain": [
       "array([[[[47, 77],\n",
       "         [31, 67]],\n",
       "\n",
       "        [[22, 42],\n",
       "         [24, 74]],\n",
       "\n",
       "        [[44, 40],\n",
       "         [33, 61]]],\n",
       "\n",
       "\n",
       "       [[[42, 70],\n",
       "         [10, 19]],\n",
       "\n",
       "        [[24, 56],\n",
       "         [ 6, 20]],\n",
       "\n",
       "        [[41, 51],\n",
       "         [ 6, 13]]]])"
      ]
     },
     "execution_count": 38,
     "metadata": {},
     "output_type": "execute_result"
    }
   ],
   "source": [
    "np.array([[a@e+b@b, a@f+b@d, a@a+b@c],\n",
    "          [c@e+d@b, c@f+d@d, c@a+d@c]])"
   ]
  },
  {
   "cell_type": "code",
   "execution_count": 39,
   "metadata": {},
   "outputs": [
    {
     "data": {
      "text/plain": [
       "array([[[[47, 77],\n",
       "         [22, 42],\n",
       "         [44, 40]],\n",
       "\n",
       "        [[31, 67],\n",
       "         [24, 74],\n",
       "         [33, 61]]],\n",
       "\n",
       "\n",
       "       [[[42, 70],\n",
       "         [24, 56],\n",
       "         [41, 51]],\n",
       "\n",
       "        [[10, 19],\n",
       "         [ 6, 20],\n",
       "         [ 6, 13]]]])"
      ]
     },
     "execution_count": 39,
     "metadata": {},
     "output_type": "execute_result"
    }
   ],
   "source": [
    "mn"
   ]
  },
  {
   "cell_type": "code",
   "execution_count": null,
   "metadata": {},
   "outputs": [],
   "source": []
  },
  {
   "cell_type": "code",
   "execution_count": null,
   "metadata": {},
   "outputs": [],
   "source": []
  }
 ],
 "metadata": {
  "kernelspec": {
   "display_name": "Python (nmr)",
   "language": "python",
   "name": "nmr"
  },
  "language_info": {
   "codemirror_mode": {
    "name": "ipython",
    "version": 3
   },
   "file_extension": ".py",
   "mimetype": "text/x-python",
   "name": "python",
   "nbconvert_exporter": "python",
   "pygments_lexer": "ipython3",
   "version": "3.7.3"
  }
 },
 "nbformat": 4,
 "nbformat_minor": 2
}
