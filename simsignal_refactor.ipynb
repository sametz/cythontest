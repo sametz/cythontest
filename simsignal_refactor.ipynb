{
 "cells": [
  {
   "cell_type": "markdown",
   "metadata": {},
   "source": [
    "The remaining unvectorized part of a spectrum calculation is the for loop in simsignals. It is not the bottleneck (eigh is), but it's significant. This notebook explores possible vectorizations."
   ]
  },
  {
   "cell_type": "code",
   "execution_count": 3,
   "metadata": {},
   "outputs": [],
   "source": [
    "import cProfile\n",
    "import os\n",
    "import sys\n",
    "import time\n",
    "import timeit"
   ]
  },
  {
   "cell_type": "code",
   "execution_count": 4,
   "metadata": {},
   "outputs": [],
   "source": [
    "import numpy as np\n",
    "import scipy\n",
    "import sparse"
   ]
  },
  {
   "cell_type": "code",
   "execution_count": 5,
   "metadata": {},
   "outputs": [],
   "source": [
    "from nmrtools.nmrmath import simsignals"
   ]
  },
  {
   "cell_type": "code",
   "execution_count": 6,
   "metadata": {},
   "outputs": [
    {
     "name": "stdout",
     "output_type": "stream",
     "text": [
      "Import type:  <class 'numpy.ndarray'>\n"
     ]
    }
   ],
   "source": [
    "from tests.test_simsignals import intensity_and_energy, old_compile_spectrum, H_RIOUX, H_RIOUX_SPARSE"
   ]
  },
  {
   "cell_type": "code",
   "execution_count": 7,
   "metadata": {},
   "outputs": [
    {
     "data": {
      "text/plain": [
       "array([-491.625     , -230.96347143, -200.30588633,  -72.10564224,\n",
       "         61.88341712,  195.52427327,  234.21730962,  503.375     ])"
      ]
     },
     "execution_count": 7,
     "metadata": {},
     "output_type": "execute_result"
    }
   ],
   "source": [
    "I, E = intensity_and_energy(H_RIOUX_SPARSE, 3)\n",
    "E"
   ]
  },
  {
   "cell_type": "code",
   "execution_count": 8,
   "metadata": {},
   "outputs": [
    {
     "data": {
      "text/plain": [
       "array([[  0.        , 260.66152857, 291.31911367, 419.51935776,\n",
       "        553.50841712, 687.14927327, 725.84230962, 995.        ],\n",
       "       [260.66152857,   0.        ,  30.65758509, 158.85782918,\n",
       "        292.84688854, 426.48774469, 465.18078104, 734.33847143],\n",
       "       [291.31911367,  30.65758509,   0.        , 128.20024409,\n",
       "        262.18930345, 395.8301596 , 434.52319595, 703.68088633],\n",
       "       [419.51935776, 158.85782918, 128.20024409,   0.        ,\n",
       "        133.98905936, 267.62991551, 306.32295186, 575.48064224],\n",
       "       [553.50841712, 292.84688854, 262.18930345, 133.98905936,\n",
       "          0.        , 133.64085615, 172.3338925 , 441.49158288],\n",
       "       [687.14927327, 426.48774469, 395.8301596 , 267.62991551,\n",
       "        133.64085615,   0.        ,  38.69303635, 307.85072673],\n",
       "       [725.84230962, 465.18078104, 434.52319595, 306.32295186,\n",
       "        172.3338925 ,  38.69303635,   0.        , 269.15769038],\n",
       "       [995.        , 734.33847143, 703.68088633, 575.48064224,\n",
       "        441.49158288, 307.85072673, 269.15769038,   0.        ]])"
      ]
     },
     "execution_count": 8,
     "metadata": {},
     "output_type": "execute_result"
    }
   ],
   "source": [
    "E_matrix = np.abs(E[:, np.newaxis] - E)\n",
    "E_matrix"
   ]
  },
  {
   "cell_type": "code",
   "execution_count": 9,
   "metadata": {},
   "outputs": [
    {
     "data": {
      "text/plain": [
       "[(260.66152857482973, 0.920443865947178),\n",
       " (291.3191136690316, 0.9152740673494263),\n",
       " (419.5193577561387, 1.1642820667033964),\n",
       " (292.8468885409387, 0.855243579015654),\n",
       " (426.4877446901903, 1.0651876493998582),\n",
       " (262.1893034467369, 0.9950358754480025),\n",
       " (434.5231959501799, 0.9201773503140263),\n",
       " (267.62991550888137, 0.9942165703492216),\n",
       " (306.3229518630728, 1.1700594579603005),\n",
       " (441.49158288423155, 0.8502854928575289)]"
      ]
     },
     "execution_count": 9,
     "metadata": {},
     "output_type": "execute_result"
    }
   ],
   "source": [
    "refspec = simsignals(H_RIOUX, 3)\n",
    "refspec[:10]"
   ]
  },
  {
   "cell_type": "code",
   "execution_count": 10,
   "metadata": {},
   "outputs": [
    {
     "name": "stdout",
     "output_type": "stream",
     "text": [
      "[[0.00000000e+00 9.20443866e-01 9.15274067e-01 1.16428207e+00\n",
      "  0.00000000e+00 0.00000000e+00 0.00000000e+00 0.00000000e+00]\n",
      " [0.00000000e+00 0.00000000e+00 0.00000000e+00 0.00000000e+00\n",
      "  8.55243579e-01 1.06518765e+00 1.26375317e-05 0.00000000e+00]\n",
      " [0.00000000e+00 0.00000000e+00 0.00000000e+00 0.00000000e+00\n",
      "  9.95035875e-01 6.08415874e-05 9.20177350e-01 0.00000000e+00]\n",
      " [0.00000000e+00 0.00000000e+00 0.00000000e+00 0.00000000e+00\n",
      "  6.03839387e-06 9.94216570e-01 1.17005946e+00 0.00000000e+00]\n",
      " [0.00000000e+00 0.00000000e+00 0.00000000e+00 0.00000000e+00\n",
      "  0.00000000e+00 0.00000000e+00 0.00000000e+00 8.50285493e-01]\n",
      " [0.00000000e+00 0.00000000e+00 0.00000000e+00 0.00000000e+00\n",
      "  0.00000000e+00 0.00000000e+00 0.00000000e+00 1.05946506e+00]\n",
      " [0.00000000e+00 0.00000000e+00 0.00000000e+00 0.00000000e+00\n",
      "  0.00000000e+00 0.00000000e+00 0.00000000e+00 1.09024945e+00]\n",
      " [0.00000000e+00 0.00000000e+00 0.00000000e+00 0.00000000e+00\n",
      "  0.00000000e+00 0.00000000e+00 0.00000000e+00 0.00000000e+00]]\n"
     ]
    }
   ],
   "source": [
    "I_upper_sparse = sparse.COO(np.triu(I)).real\n",
    "print(I_upper_sparse.todense())"
   ]
  },
  {
   "cell_type": "code",
   "execution_count": 11,
   "metadata": {},
   "outputs": [
    {
     "name": "stdout",
     "output_type": "stream",
     "text": [
      "[[  0.         260.66152857 291.31911367 419.51935776 553.50841712\n",
      "  687.14927327 725.84230962 995.        ]\n",
      " [  0.           0.          30.65758509 158.85782918 292.84688854\n",
      "  426.48774469 465.18078104 734.33847143]\n",
      " [  0.           0.           0.         128.20024409 262.18930345\n",
      "  395.8301596  434.52319595 703.68088633]\n",
      " [  0.           0.           0.           0.         133.98905936\n",
      "  267.62991551 306.32295186 575.48064224]\n",
      " [  0.           0.           0.           0.           0.\n",
      "  133.64085615 172.3338925  441.49158288]\n",
      " [  0.           0.           0.           0.           0.\n",
      "    0.          38.69303635 307.85072673]\n",
      " [  0.           0.           0.           0.           0.\n",
      "    0.           0.         269.15769038]\n",
      " [  0.           0.           0.           0.           0.\n",
      "    0.           0.           0.        ]]\n"
     ]
    }
   ],
   "source": [
    "E_upper_sparse = sparse.COO(np.triu(E_matrix))\n",
    "print(E_upper_sparse.todense())"
   ]
  },
  {
   "cell_type": "code",
   "execution_count": 12,
   "metadata": {},
   "outputs": [
    {
     "data": {
      "text/plain": [
       "(2, 8, 8)"
      ]
     },
     "execution_count": 12,
     "metadata": {},
     "output_type": "execute_result"
    }
   ],
   "source": [
    "combo = sparse.stack([I_upper_sparse, E_upper_sparse])\n",
    "combo.shape"
   ]
  },
  {
   "cell_type": "code",
   "execution_count": 13,
   "metadata": {},
   "outputs": [],
   "source": [
    "iv = combo.reshape((2, 64)).T\n",
    "# [(v, i) for i, v in row for row in iv if i > 0.01]\n"
   ]
  },
  {
   "cell_type": "code",
   "execution_count": 14,
   "metadata": {},
   "outputs": [
    {
     "data": {
      "text/plain": [
       "[(260.66152857482973, 0.920443865947178),\n",
       " (291.3191136690316, 0.9152740673494261),\n",
       " (419.5193577561387, 1.1642820667033964),\n",
       " (292.84688854093866, 0.8552435790156537),\n",
       " (426.4877446901903, 1.0651876493998582),\n",
       " (262.18930344673686, 0.9950358754480023),\n",
       " (434.52319595017997, 0.9201773503140263),\n",
       " (267.62991550888137, 0.9942165703492218),\n",
       " (306.32295186307283, 1.1700594579603),\n",
       " (441.4915828842316, 0.850285492857529),\n",
       " (307.85072673497996, 1.059465061336477),\n",
       " (269.1576903807885, 1.0902494458059926)]"
      ]
     },
     "execution_count": 14,
     "metadata": {},
     "output_type": "execute_result"
    }
   ],
   "source": [
    "[(row[1], row[0]) for row in iv if row[0] > 0.01]"
   ]
  },
  {
   "cell_type": "code",
   "execution_count": 15,
   "metadata": {},
   "outputs": [],
   "source": [
    "iv_csr = iv.tocsr()\n",
    "# iv_csr.todense()"
   ]
  },
  {
   "cell_type": "code",
   "execution_count": 16,
   "metadata": {},
   "outputs": [
    {
     "data": {
      "text/plain": [
       "matrix([[9.20443866e-01, 2.60661529e+02],\n",
       "        [9.15274067e-01, 2.91319114e+02],\n",
       "        [1.16428207e+00, 4.19519358e+02],\n",
       "        [8.55243579e-01, 2.92846889e+02],\n",
       "        [1.06518765e+00, 4.26487745e+02],\n",
       "        [1.26375317e-05, 4.65180781e+02],\n",
       "        [9.95035875e-01, 2.62189303e+02],\n",
       "        [6.08415874e-05, 3.95830160e+02],\n",
       "        [9.20177350e-01, 4.34523196e+02],\n",
       "        [6.03839387e-06, 1.33989059e+02],\n",
       "        [9.94216570e-01, 2.67629916e+02],\n",
       "        [1.17005946e+00, 3.06322952e+02],\n",
       "        [8.50285493e-01, 4.41491583e+02],\n",
       "        [1.05946506e+00, 3.07850727e+02],\n",
       "        [1.09024945e+00, 2.69157690e+02]])"
      ]
     },
     "execution_count": 16,
     "metadata": {},
     "output_type": "execute_result"
    }
   ],
   "source": [
    "iv_csr[iv_csr.getnnz(1)==2].todense()"
   ]
  },
  {
   "cell_type": "code",
   "execution_count": 17,
   "metadata": {},
   "outputs": [],
   "source": [
    "# iv[iv.all(axis=1)==True].todense()"
   ]
  },
  {
   "cell_type": "code",
   "execution_count": 18,
   "metadata": {},
   "outputs": [],
   "source": [
    "testspec = old_compile_spectrum(I, E)\n",
    "assert np.allclose(refspec, testspec)"
   ]
  },
  {
   "cell_type": "code",
   "execution_count": 19,
   "metadata": {},
   "outputs": [],
   "source": [
    "def compile_spectrum(I, E):\n",
    "    I_upper_sparse = sparse.COO(np.triu(I))\n",
    "    E_matrix = np.abs(E[:, np.newaxis] - E)\n",
    "    E_upper_sparse = sparse.COO(np.triu(E_matrix))\n",
    "    combo = sparse.stack([I_upper_sparse, E_upper_sparse])\n",
    "    iv = combo.reshape((2, 64)).T\n",
    "    iv_csr = iv.tocsr()\n",
    "#     iv_filtered = iv_csr[iv_csr.getnnz(1)==2]\n",
    "#     return [(row[1], row[0]) for row in iv if row[0] > 0.01]\n",
    "    return iv_csr[iv_csr.getnnz(1)==2]"
   ]
  },
  {
   "cell_type": "code",
   "execution_count": 20,
   "metadata": {},
   "outputs": [],
   "source": [
    "compilecsr = compile_spectrum(I, E)\n",
    "compilespec = [(row[1], row[0]) for row in iv if row[0] > 0.01]\n",
    "assert np.allclose(refspec, compilespec)"
   ]
  },
  {
   "cell_type": "code",
   "execution_count": 21,
   "metadata": {},
   "outputs": [
    {
     "name": "stdout",
     "output_type": "stream",
     "text": [
      "[(260.66152857482973, 0.920443865947178), (291.3191136690316, 0.9152740673494263), (419.5193577561387, 1.1642820667033964), (292.8468885409387, 0.855243579015654), (426.4877446901903, 1.0651876493998582), (262.1893034467369, 0.9950358754480025), (434.5231959501799, 0.9201773503140263), (267.62991550888137, 0.9942165703492216), (306.3229518630728, 1.1700594579603005), (441.49158288423155, 0.8502854928575289)]\n",
      "[(260.66152857482973, 0.920443865947178), (291.3191136690316, 0.9152740673494261), (419.5193577561387, 1.1642820667033964), (292.84688854093866, 0.8552435790156537), (426.4877446901903, 1.0651876493998582), (262.18930344673686, 0.9950358754480023), (434.52319595017997, 0.9201773503140263), (267.62991550888137, 0.9942165703492218), (306.32295186307283, 1.1700594579603), (441.4915828842316, 0.850285492857529)]\n"
     ]
    }
   ],
   "source": [
    "print(refspec[:10])\n",
    "print(compilespec[:10])"
   ]
  },
  {
   "cell_type": "code",
   "execution_count": 22,
   "metadata": {},
   "outputs": [
    {
     "name": "stdout",
     "output_type": "stream",
     "text": [
      "18.6 µs ± 194 ns per loop (mean ± std. dev. of 7 runs, 100000 loops each)\n"
     ]
    }
   ],
   "source": [
    "%timeit old_compile_spectrum(I, E)"
   ]
  },
  {
   "cell_type": "code",
   "execution_count": 23,
   "metadata": {},
   "outputs": [
    {
     "name": "stdout",
     "output_type": "stream",
     "text": [
      "663 µs ± 13.7 µs per loop (mean ± std. dev. of 7 runs, 1000 loops each)\n"
     ]
    }
   ],
   "source": [
    "%timeit compile_spectrum(I, E)"
   ]
  },
  {
   "cell_type": "code",
   "execution_count": 24,
   "metadata": {},
   "outputs": [],
   "source": [
    "%load_ext line_profiler\n"
   ]
  },
  {
   "cell_type": "code",
   "execution_count": 25,
   "metadata": {},
   "outputs": [
    {
     "data": {
      "text/plain": [
       "Timer unit: 1e-07 s\n",
       "\n",
       "Total time: 0.0020156 s\n",
       "File: <ipython-input-19-06af6766613f>\n",
       "Function: compile_spectrum at line 1\n",
       "\n",
       "Line #      Hits         Time  Per Hit   % Time  Line Contents\n",
       "==============================================================\n",
       "     1                                           def compile_spectrum(I, E):\n",
       "     2         1       4005.0   4005.0     19.9      I_upper_sparse = sparse.COO(np.triu(I))\n",
       "     3         1        143.0    143.0      0.7      E_matrix = np.abs(E[:, np.newaxis] - E)\n",
       "     4         1       3142.0   3142.0     15.6      E_upper_sparse = sparse.COO(np.triu(E_matrix))\n",
       "     5         1       2109.0   2109.0     10.5      combo = sparse.stack([I_upper_sparse, E_upper_sparse])\n",
       "     6         1       3175.0   3175.0     15.8      iv = combo.reshape((2, 64)).T\n",
       "     7         1       2475.0   2475.0     12.3      iv_csr = iv.tocsr()\n",
       "     8                                           #     iv_filtered = iv_csr[iv_csr.getnnz(1)==2]\n",
       "     9                                           #     return [(row[1], row[0]) for row in iv if row[0] > 0.01]\n",
       "    10         1       5107.0   5107.0     25.3      return iv_csr[iv_csr.getnnz(1)==2]"
      ]
     },
     "metadata": {},
     "output_type": "display_data"
    }
   ],
   "source": [
    "%lprun -f compile_spectrum compile_spectrum(I, E)"
   ]
  },
  {
   "cell_type": "markdown",
   "metadata": {},
   "source": [
    "this suggests the time required to convert to sparse alone makes this not worth it."
   ]
  },
  {
   "cell_type": "code",
   "execution_count": 53,
   "metadata": {},
   "outputs": [],
   "source": [
    "def dense_spectrum(I, E):\n",
    "    I_upper = np.triu(I)\n",
    "    E_matrix = np.abs(E[:, np.newaxis] - E)\n",
    "    E_upper = np.triu(E_matrix)\n",
    "    combo = np.stack([E_upper, I_upper])\n",
    "#     combo = np.stack([I, E_matrix])\n",
    "    iv = combo.reshape(2, I.shape[0]**2).T\n",
    "#     iv_csr = iv.tocsr()\n",
    "#     iv_filtered = iv_csr[iv_csr.getnnz(1)==2]\n",
    "    \n",
    "#     return iv_csr[iv_csr.getnnz(1)==2]\n",
    "#     print((iv==0).any(1))\n",
    "#     return [(row[1], row[0]) for row in iv if row[0] > 0.01]\n",
    "#     return iv[iv[1]>0.01, :]\n",
    "    return iv[iv[:, 1]>=0.01]"
   ]
  },
  {
   "cell_type": "code",
   "execution_count": 72,
   "metadata": {},
   "outputs": [
    {
     "name": "stdout",
     "output_type": "stream",
     "text": [
      "10976 12\n",
      "(641.5538518508765, 1.8516750575308343) (2275.282262973028, 1.012514628635217) (260.66152857482973, 0.920443865947178) (269.1576903807885, 1.0902494458059926)\n",
      "[(641.5538518508765, 1.8516750575308343), (870.2287274432629, 2.079426394638906), (995.3138581296325, 2.056150647035006), (1000.0000000000009, 4.0000000000000036), (2275.2772661397066, 1.0125157797768498), (641.6326956617213, 1.8534015597641755), (874.9063460501102, 1.9338840313711023), (900.5809042168894, 0.051966743572861726), (998.9880757452315, 1.8589933743274527), (999.9999999999959, 3.9999999999999893), (1013.1752409790483, 0.13996461533612228), (2275.282262973028, 1.012514628635217)]\n",
      "[(260.66152857482973, 0.920443865947178), (291.3191136690316, 0.9152740673494263), (419.5193577561387, 1.1642820667033964), (292.8468885409387, 0.855243579015654), (426.4877446901903, 1.0651876493998582), (262.1893034467369, 0.9950358754480025), (434.5231959501799, 0.9201773503140263), (267.62991550888137, 0.9942165703492216), (306.3229518630728, 1.1700594579603005), (441.49158288423155, 0.8502854928575289), (307.85072673497996, 1.059465061336477), (269.1576903807885, 1.0902494458059926)]\n"
     ]
    },
    {
     "ename": "AssertionError",
     "evalue": "",
     "output_type": "error",
     "traceback": [
      "\u001b[1;31m---------------------------------------------------------------------------\u001b[0m",
      "\u001b[1;31mAssertionError\u001b[0m                            Traceback (most recent call last)",
      "\u001b[1;32m<ipython-input-72-b40561ad0ffe>\u001b[0m in \u001b[0;36m<module>\u001b[1;34m\u001b[0m\n\u001b[0;32m      4\u001b[0m \u001b[0mprint\u001b[0m\u001b[1;33m(\u001b[0m\u001b[0mdensespec\u001b[0m\u001b[1;33m[\u001b[0m\u001b[1;33m:\u001b[0m\u001b[1;36m12\u001b[0m\u001b[1;33m]\u001b[0m\u001b[1;33m)\u001b[0m\u001b[1;33m\u001b[0m\u001b[1;33m\u001b[0m\u001b[0m\n\u001b[0;32m      5\u001b[0m \u001b[0mprint\u001b[0m\u001b[1;33m(\u001b[0m\u001b[0mrefspec\u001b[0m\u001b[1;33m)\u001b[0m\u001b[1;33m\u001b[0m\u001b[1;33m\u001b[0m\u001b[0m\n\u001b[1;32m----> 6\u001b[1;33m \u001b[1;32massert\u001b[0m \u001b[0mnp\u001b[0m\u001b[1;33m.\u001b[0m\u001b[0mallclose\u001b[0m\u001b[1;33m(\u001b[0m\u001b[0mrefspec\u001b[0m\u001b[1;33m,\u001b[0m \u001b[0mdensespec\u001b[0m\u001b[1;33m[\u001b[0m\u001b[1;33m:\u001b[0m\u001b[1;36m12\u001b[0m\u001b[1;33m]\u001b[0m\u001b[1;33m)\u001b[0m\u001b[1;33m\u001b[0m\u001b[1;33m\u001b[0m\u001b[0m\n\u001b[0m",
      "\u001b[1;31mAssertionError\u001b[0m: "
     ]
    }
   ],
   "source": [
    "densespec = dense_spectrum(I, E)\n",
    "print(len(densespec), len(refspec))\n",
    "print(densespec[0], densespec[11], refspec[0], refspec[-1])\n",
    "print(densespec[:12])\n",
    "print(refspec)\n",
    "assert np.allclose(refspec, densespec[:12])"
   ]
  },
  {
   "cell_type": "code",
   "execution_count": 50,
   "metadata": {},
   "outputs": [
    {
     "name": "stdout",
     "output_type": "stream",
     "text": [
      "[(260.66152857482973, 0.920443865947178), (291.3191136690316, 0.9152740673494261), (419.5193577561387, 1.1642820667033964), (260.66152857482973, 0.920443865947178), (292.84688854093866, 0.8552435790156537), (426.4877446901903, 1.0651876493998582), (291.3191136690316, 0.9152740673494261), (262.18930344673686, 0.9950358754480023), (434.52319595017997, 0.9201773503140263), (419.5193577561387, 1.1642820667033964)]\n"
     ]
    }
   ],
   "source": [
    "print(densespec[:10])"
   ]
  },
  {
   "cell_type": "code",
   "execution_count": 27,
   "metadata": {},
   "outputs": [
    {
     "name": "stdout",
     "output_type": "stream",
     "text": [
      "35.7 µs ± 922 ns per loop (mean ± std. dev. of 7 runs, 10000 loops each)\n"
     ]
    }
   ],
   "source": [
    "%timeit dense_spectrum(I, E)"
   ]
  },
  {
   "cell_type": "code",
   "execution_count": 54,
   "metadata": {},
   "outputs": [
    {
     "data": {
      "text/plain": [
       "Timer unit: 1e-07 s\n",
       "\n",
       "Total time: 0.113472 s\n",
       "File: <ipython-input-53-a505d57756d4>\n",
       "Function: dense_spectrum at line 1\n",
       "\n",
       "Line #      Hits         Time  Per Hit   % Time  Line Contents\n",
       "==============================================================\n",
       "     1                                           def dense_spectrum(I, E):\n",
       "     2         1     201575.0 201575.0     17.8      I_upper = np.triu(I)\n",
       "     3         1     295616.0 295616.0     26.1      E_matrix = np.abs(E[:, np.newaxis] - E)\n",
       "     4         1     336009.0 336009.0     29.6      E_upper = np.triu(E_matrix)\n",
       "     5         1     164545.0 164545.0     14.5      combo = np.stack([E_upper, I_upper])\n",
       "     6                                           #     combo = np.stack([I, E_matrix])\n",
       "     7         1        129.0    129.0      0.0      iv = combo.reshape(2, I.shape[0]**2).T\n",
       "     8                                           #     iv_csr = iv.tocsr()\n",
       "     9                                           #     iv_filtered = iv_csr[iv_csr.getnnz(1)==2]\n",
       "    10                                               \n",
       "    11                                           #     return iv_csr[iv_csr.getnnz(1)==2]\n",
       "    12                                           #     print((iv==0).any(1))\n",
       "    13                                           #     return [(row[1], row[0]) for row in iv if row[0] > 0.01]\n",
       "    14                                           #     return iv[iv[1]>0.01, :]\n",
       "    15         1     136848.0 136848.0     12.1      return iv[iv[:, 1]>=0.01]"
      ]
     },
     "metadata": {},
     "output_type": "display_data"
    }
   ],
   "source": [
    "%lprun -f dense_spectrum dense_spectrum(I, E)"
   ]
  },
  {
   "cell_type": "code",
   "execution_count": 55,
   "metadata": {},
   "outputs": [
    {
     "data": {
      "text/plain": [
       "Timer unit: 1e-07 s\n",
       "\n",
       "Total time: 2.16862 s\n",
       "File: E:\\Geoffrey\\Documents\\GitHub\\cythontest\\tests\\test_simsignals.py\n",
       "Function: old_compile_spectrum at line 231\n",
       "\n",
       "Line #      Hits         Time  Per Hit   % Time  Line Contents\n",
       "==============================================================\n",
       "   231                                           def old_compile_spectrum(I, E):\n",
       "   232         1         15.0     15.0      0.0      spectrum = []\n",
       "   233         1         20.0     20.0      0.0      m = I.shape[0]\n",
       "   234      2048       7811.0      3.8      0.0      for i in range(m - 1):\n",
       "   235   2098175    7930363.0      3.8     36.6          for j in range(i + 1, m):\n",
       "   236   2096128   13560384.0      6.5     62.5              if I[i, j] > 0.01:  # consider making this minimum intensity\n",
       "   237                                                           # cutoff a function arg, for flexibility\n",
       "   238     10976     110674.0     10.1      0.5                  v = abs(E[i] - E[j])\n",
       "   239     10976      76937.0      7.0      0.4                  spectrum.append((v, I[i, j]))\n",
       "   240         1          5.0      5.0      0.0      return spectrum"
      ]
     },
     "metadata": {},
     "output_type": "display_data"
    }
   ],
   "source": [
    "%lprun -f old_compile_spectrum old_compile_spectrum(I, E)"
   ]
  },
  {
   "cell_type": "code",
   "execution_count": 30,
   "metadata": {},
   "outputs": [],
   "source": [
    "def loop_fn(f, n):\n",
    "    for i in range(n):\n",
    "        res = f(I, E)\n",
    "    return res"
   ]
  },
  {
   "cell_type": "code",
   "execution_count": 31,
   "metadata": {},
   "outputs": [
    {
     "data": {
      "text/plain": [
       "Timer unit: 1e-07 s\n",
       "\n",
       "Total time: 6.76e-05 s\n",
       "File: E:\\Geoffrey\\Documents\\GitHub\\cythontest\\tests\\test_simsignals.py\n",
       "Function: old_compile_spectrum at line 231\n",
       "\n",
       "Line #      Hits         Time  Per Hit   % Time  Line Contents\n",
       "==============================================================\n",
       "   231                                           def old_compile_spectrum(I, E):\n",
       "   232         1         14.0     14.0      2.1      spectrum = []\n",
       "   233         1         29.0     29.0      4.3      m = I.shape[0]\n",
       "   234         8         34.0      4.2      5.0      for i in range(m - 1):\n",
       "   235        35        155.0      4.4     22.9          for j in range(i + 1, m):\n",
       "   236        28        235.0      8.4     34.8              if I[i, j] > 0.01:  # consider making this minimum intensity\n",
       "   237                                                           # cutoff a function arg, for flexibility\n",
       "   238        12        124.0     10.3     18.3                  v = abs(E[i] - E[j])\n",
       "   239        12         81.0      6.8     12.0                  spectrum.append((v, I[i, j]))\n",
       "   240         1          4.0      4.0      0.6      return spectrum"
      ]
     },
     "metadata": {},
     "output_type": "display_data"
    }
   ],
   "source": [
    "%lprun -f old_compile_spectrum loop_fn(old_compile_spectrum, 1)"
   ]
  },
  {
   "cell_type": "code",
   "execution_count": 32,
   "metadata": {},
   "outputs": [
    {
     "data": {
      "text/plain": [
       "Timer unit: 1e-07 s\n",
       "\n",
       "Total time: 0.0001632 s\n",
       "File: <ipython-input-26-492a18f2d849>\n",
       "Function: dense_spectrum at line 1\n",
       "\n",
       "Line #      Hits         Time  Per Hit   % Time  Line Contents\n",
       "=============================================================="
      ]
     },
     "metadata": {},
     "output_type": "display_data"
    }
   ],
   "source": [
    "%lprun -f dense_spectrum loop_fn(dense_spectrum, 1)"
   ]
  },
  {
   "cell_type": "code",
   "execution_count": null,
   "metadata": {},
   "outputs": [],
   "source": [
    "%lprun -f compile_spectrum loop_fn(compile_spectrum, 100)"
   ]
  },
  {
   "cell_type": "code",
   "execution_count": 33,
   "metadata": {},
   "outputs": [],
   "source": [
    "from tests.test_simsignals import H11_NDARRAY"
   ]
  },
  {
   "cell_type": "code",
   "execution_count": 34,
   "metadata": {},
   "outputs": [],
   "source": [
    "I, E = intensity_and_energy(H11_NDARRAY, 11)"
   ]
  },
  {
   "cell_type": "code",
   "execution_count": 35,
   "metadata": {},
   "outputs": [
    {
     "data": {
      "text/plain": [
       "(2048, 2048)"
      ]
     },
     "execution_count": 35,
     "metadata": {},
     "output_type": "execute_result"
    }
   ],
   "source": [
    "I.shape"
   ]
  },
  {
   "cell_type": "code",
   "execution_count": 51,
   "metadata": {},
   "outputs": [
    {
     "name": "stdout",
     "output_type": "stream",
     "text": [
      "530 ms ± 7.4 ms per loop (mean ± std. dev. of 7 runs, 1 loop each)\n"
     ]
    }
   ],
   "source": [
    "%timeit old_compile_spectrum(I, E)"
   ]
  },
  {
   "cell_type": "code",
   "execution_count": 52,
   "metadata": {},
   "outputs": [
    {
     "name": "stdout",
     "output_type": "stream",
     "text": [
      "109 ms ± 1.53 ms per loop (mean ± std. dev. of 7 runs, 10 loops each)\n"
     ]
    }
   ],
   "source": [
    "%timeit dense_spectrum(I, E)"
   ]
  },
  {
   "cell_type": "code",
   "execution_count": 42,
   "metadata": {},
   "outputs": [
    {
     "name": "stdout",
     "output_type": "stream",
     "text": [
      "[(641.5538518508765, 1.8516750575308343), (870.2287274432629, 2.079426394638906), (995.3138581296325, 2.056150647035006), (1000.0000000000009, 4.0000000000000036), (2275.2772661397066, 1.0125157797768498), (641.6326956617213, 1.8534015597641755), (874.9063460501102, 1.9338840313711023), (900.5809042168894, 0.051966743572861726), (998.9880757452315, 1.8589933743274527), (999.9999999999959, 3.9999999999999893)] [(888.9363123858448, 0.9649752281691011), (652.0985209252585, 0.9867131557430264), (879.9396662232512, 1.047106842934071), (631.7992526752951, 0.053606741633348165), (859.7295931687131, 0.08188013178406538), (662.106651895333, 2.1547646154616067), (1004.8159138628343, 1.9471311821109756), (1000.0000000000018, 4.0000000000000036), (889.9817108887182, 1.9115751136490524), (662.0513703953002, 2.15350676648617)]\n",
      "[[6.41553852e+02 1.85167506e+00]\n",
      " [8.70228727e+02 2.07942639e+00]\n",
      " [9.95313858e+02 2.05615065e+00]\n",
      " [1.00000000e+03 4.00000000e+00]\n",
      " [2.27527727e+03 1.01251578e+00]\n",
      " [6.41632696e+02 1.85340156e+00]\n",
      " [8.74906346e+02 1.93388403e+00]\n",
      " [9.00580904e+02 5.19667436e-02]\n",
      " [9.98988076e+02 1.85899337e+00]\n",
      " [1.00000000e+03 4.00000000e+00]] [[8.88936312e+02 9.64975228e-01]\n",
      " [6.52098521e+02 9.86713156e-01]\n",
      " [8.79939666e+02 1.04710684e+00]\n",
      " [6.31799253e+02 5.36067416e-02]\n",
      " [8.59729593e+02 8.18801318e-02]\n",
      " [6.62106652e+02 2.15476462e+00]\n",
      " [1.00481591e+03 1.94713118e+00]\n",
      " [1.00000000e+03 4.00000000e+00]\n",
      " [8.89981711e+02 1.91157511e+00]\n",
      " [6.62051370e+02 2.15350677e+00]]\n"
     ]
    }
   ],
   "source": [
    "old = old_compile_spectrum(I, E)\n",
    "new = dense_spectrum(I, E)\n",
    "print(old[:10], old[-10:])\n",
    "print(new[:10], new[-10:])"
   ]
  },
  {
   "cell_type": "code",
   "execution_count": 48,
   "metadata": {},
   "outputs": [],
   "source": [
    "def tupleize(array):\n",
    "    newtuple = []\n",
    "    for row in array:\n",
    "        newtuple.append(tuple(row))\n",
    "    return newtuple"
   ]
  },
  {
   "cell_type": "code",
   "execution_count": 49,
   "metadata": {},
   "outputs": [],
   "source": [
    "newtuple = tupleize(new)\n",
    "assert np.allclose(old, newtuple)"
   ]
  },
  {
   "cell_type": "code",
   "execution_count": 50,
   "metadata": {},
   "outputs": [
    {
     "name": "stdout",
     "output_type": "stream",
     "text": [
      "(641.5538518508765, 1.8516750575308343)\n",
      "(870.2287274432629, 2.079426394638906)\n",
      "(995.3138581296325, 2.056150647035006)\n",
      "(1000.0000000000009, 4.0000000000000036)\n",
      "(2275.2772661397066, 1.0125157797768498)\n",
      "(641.6326956617213, 1.8534015597641755)\n",
      "(874.9063460501102, 1.9338840313711023)\n",
      "(900.5809042168894, 0.051966743572861726)\n",
      "(998.9880757452315, 1.8589933743274527)\n",
      "(999.9999999999959, 3.9999999999999893)\n"
     ]
    },
    {
     "data": {
      "text/plain": [
       "[(641.5538518508765, 1.8516750575308343),\n",
       " (870.2287274432629, 2.079426394638906),\n",
       " (995.3138581296325, 2.056150647035006),\n",
       " (1000.0000000000009, 4.0000000000000036),\n",
       " (2275.2772661397066, 1.0125157797768498),\n",
       " (641.6326956617213, 1.8534015597641755),\n",
       " (874.9063460501102, 1.9338840313711023),\n",
       " (900.5809042168894, 0.051966743572861726),\n",
       " (998.9880757452315, 1.8589933743274527),\n",
       " (999.9999999999959, 3.9999999999999893)]"
      ]
     },
     "execution_count": 50,
     "metadata": {},
     "output_type": "execute_result"
    }
   ],
   "source": [
    "for row in old[:10]:\n",
    "    print(row)\n",
    "newtuple[:10]"
   ]
  },
  {
   "cell_type": "code",
   "execution_count": 41,
   "metadata": {},
   "outputs": [
    {
     "name": "stdout",
     "output_type": "stream",
     "text": [
      "[[260.66152857   0.92044387]\n",
      " [291.31911367   0.91527407]\n",
      " [419.51935776   1.16428207]\n",
      " [292.84688854   0.85524358]\n",
      " [426.48774469   1.06518765]\n",
      " [262.18930345   0.99503588]\n",
      " [434.52319595   0.92017735]\n",
      " [267.62991551   0.99421657]\n",
      " [306.32295186   1.17005946]\n",
      " [441.49158288   0.85028549]\n",
      " [307.85072673   1.05946506]\n",
      " [269.15769038   1.09024945]]\n"
     ]
    }
   ],
   "source": [
    "test = dense_spectrum(*intensity_and_energy(H_RIOUX_SPARSE, 3))\n",
    "print(test)\n"
   ]
  },
  {
   "cell_type": "code",
   "execution_count": null,
   "metadata": {},
   "outputs": [],
   "source": []
  }
 ],
 "metadata": {
  "kernelspec": {
   "display_name": "Python (nmr)",
   "language": "python",
   "name": "nmr"
  },
  "language_info": {
   "codemirror_mode": {
    "name": "ipython",
    "version": 3
   },
   "file_extension": ".py",
   "mimetype": "text/x-python",
   "name": "python",
   "nbconvert_exporter": "python",
   "pygments_lexer": "ipython3",
   "version": "3.7.3"
  }
 },
 "nbformat": 4,
 "nbformat_minor": 2
}
