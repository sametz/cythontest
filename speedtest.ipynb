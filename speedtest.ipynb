{
 "cells": [
  {
   "cell_type": "markdown",
   "metadata": {},
   "source": [
    "Purposes:\n",
    "- speed test to find bottlenecks and further opportunities for optimization\n",
    "- apply the lessons from Mike Muller's 2019 PyCon talk: https://www.youtube.com/watch?v=EcGWDNlGTNg\n",
    "    "
   ]
  },
  {
   "cell_type": "code",
   "execution_count": 1,
   "metadata": {},
   "outputs": [],
   "source": [
    "import cProfile\n",
    "import os\n",
    "import sys\n",
    "import time\n",
    "import timeit"
   ]
  },
  {
   "cell_type": "code",
   "execution_count": null,
   "metadata": {},
   "outputs": [],
   "source": [
    "from candidates import current_hamiltonian, current_simsignals, candidate_hamiltonian, candidate_simsignals"
   ]
  },
  {
   "cell_type": "code",
   "execution_count": 2,
   "metadata": {},
   "outputs": [],
   "source": [
    "from nmrtools.qm import hamiltonian_dense, hamiltonian_sparse, hs2, nspinspec_dense, nspinspec_sparse, nss2"
   ]
  },
  {
   "cell_type": "code",
   "execution_count": 3,
   "metadata": {},
   "outputs": [],
   "source": [
    "from simulation_data import spin11, spin8, rioux"
   ]
  },
  {
   "cell_type": "code",
   "execution_count": null,
   "metadata": {},
   "outputs": [],
   "source": [
    "def old_h():\n",
    "    return current_hamiltonian(*spin11())\n",
    "\n",
    "def new_h():\n",
    "    return candidate_hamiltonian(*spin11())"
   ]
  },
  {
   "cell_type": "code",
   "execution_count": null,
   "metadata": {},
   "outputs": [],
   "source": [
    "old11_h = old_h()\n",
    "new11_h = new_h()"
   ]
  },
  {
   "cell_type": "code",
   "execution_count": null,
   "metadata": {},
   "outputs": [],
   "source": [
    "def old_s():\n",
    "    return current_simsignals(old11_h, 11)\n",
    "\n",
    "def new_s():\n",
    "    return candidate_simsignals(new11_h, 11)"
   ]
  },
  {
   "cell_type": "code",
   "execution_count": 4,
   "metadata": {},
   "outputs": [],
   "source": [
    "f = spin11\n",
    "def old_h():\n",
    "    return hamiltonian_dense(*f())\n",
    "def new_h():\n",
    "    return hamiltonian_sparse(*f())\n",
    "def newer_h():\n",
    "    return hs2(*f())\n",
    "def old_s():\n",
    "    return nspinspec_dense(*f())\n",
    "def new_s():\n",
    "    return nspinspec_sparse(*f())\n",
    "def newer_s():\n",
    "    return nss2(*f())"
   ]
  },
  {
   "cell_type": "code",
   "execution_count": 18,
   "metadata": {},
   "outputs": [
    {
     "name": "stdout",
     "output_type": "stream",
     "text": [
      "<class 'numpy.ndarray'>\n",
      "<class 'numpy.ndarray'>\n",
      "<class 'sparse.coo.core.COO'>\n"
     ]
    }
   ],
   "source": [
    "print(type(hamiltonian_dense(*rioux())))\n",
    "print(type(hamiltonian_sparse(*rioux())))\n",
    "print(type(hs2(*rioux())))"
   ]
  },
  {
   "cell_type": "markdown",
   "metadata": {},
   "source": [
    "Use %timeit for a 1-liner, and %%timeit for multiple lines"
   ]
  },
  {
   "cell_type": "code",
   "execution_count": null,
   "metadata": {},
   "outputs": [],
   "source": [
    "%%timeit\n",
    "old_h()"
   ]
  },
  {
   "cell_type": "code",
   "execution_count": 5,
   "metadata": {},
   "outputs": [
    {
     "name": "stdout",
     "output_type": "stream",
     "text": [
      "174 ms ± 3.7 ms per loop (mean ± std. dev. of 7 runs, 1 loop each)\n"
     ]
    }
   ],
   "source": [
    "%%timeit\n",
    "new_h()"
   ]
  },
  {
   "cell_type": "code",
   "execution_count": 6,
   "metadata": {},
   "outputs": [
    {
     "name": "stdout",
     "output_type": "stream",
     "text": [
      "125 ms ± 2.49 ms per loop (mean ± std. dev. of 7 runs, 1 loop each)\n"
     ]
    }
   ],
   "source": [
    "%%timeit\n",
    "newer_h()"
   ]
  },
  {
   "cell_type": "code",
   "execution_count": null,
   "metadata": {},
   "outputs": [],
   "source": [
    "%%timeit\n",
    "old_s()"
   ]
  },
  {
   "cell_type": "code",
   "execution_count": 7,
   "metadata": {},
   "outputs": [
    {
     "name": "stdout",
     "output_type": "stream",
     "text": [
      "3.56 s ± 56.6 ms per loop (mean ± std. dev. of 7 runs, 1 loop each)\n"
     ]
    }
   ],
   "source": [
    "%%timeit\n",
    "new_s()"
   ]
  },
  {
   "cell_type": "code",
   "execution_count": 8,
   "metadata": {},
   "outputs": [
    {
     "name": "stdout",
     "output_type": "stream",
     "text": [
      "3.35 s ± 200 ms per loop (mean ± std. dev. of 7 runs, 1 loop each)\n"
     ]
    }
   ],
   "source": [
    "%%timeit\n",
    "newer_s()"
   ]
  },
  {
   "cell_type": "code",
   "execution_count": 9,
   "metadata": {},
   "outputs": [],
   "source": [
    "profiler = cProfile.Profile()"
   ]
  },
  {
   "cell_type": "code",
   "execution_count": 10,
   "metadata": {},
   "outputs": [
    {
     "data": {
      "text/plain": [
       "array([[ 5681.875+0.j,     0.   +0.j,     0.   +0.j, ...,     0.   +0.j,\n",
       "            0.   +0.j,     0.   +0.j],\n",
       "       [    0.   +0.j,  3389.125+0.j,     0.   +0.j, ...,     0.   +0.j,\n",
       "            0.   +0.j,     0.   +0.j],\n",
       "       [    0.   +0.j,     0.   +0.j,  4677.125+0.j, ...,     0.   +0.j,\n",
       "            0.   +0.j,     0.   +0.j],\n",
       "       ...,\n",
       "       [    0.   +0.j,     0.   +0.j,     0.   +0.j, ..., -4670.875+0.j,\n",
       "            0.   +0.j,     0.   +0.j],\n",
       "       [    0.   +0.j,     0.   +0.j,     0.   +0.j, ...,     0.   +0.j,\n",
       "        -3390.875+0.j,     0.   +0.j],\n",
       "       [    0.   +0.j,     0.   +0.j,     0.   +0.j, ...,     0.   +0.j,\n",
       "            0.   +0.j, -5666.125+0.j]])"
      ]
     },
     "execution_count": 10,
     "metadata": {},
     "output_type": "execute_result"
    }
   ],
   "source": [
    "profiler.runcall(new_h)"
   ]
  },
  {
   "cell_type": "code",
   "execution_count": 11,
   "metadata": {},
   "outputs": [
    {
     "name": "stdout",
     "output_type": "stream",
     "text": [
      "         6854 function calls (6787 primitive calls) in 0.189 seconds\n",
      "\n",
      "   Ordered by: standard name\n",
      "\n",
      "   ncalls  tottime  percall  cumtime  percall filename:lineno(function)\n",
      "       20    0.000    0.000    0.000    0.000 <frozen importlib._bootstrap>:1009(_handle_fromlist)\n",
      "       12    0.000    0.000    0.000    0.000 <frozen importlib._bootstrap>:416(parent)\n",
      "        1    0.002    0.002    0.189    0.189 <ipython-input-4-6fe084f15d15>:4(new_h)\n",
      "      158    0.000    0.000    0.000    0.000 <string>:1(__new__)\n",
      "        4    0.000    0.000    0.000    0.000 _dtype.py:319(_name_get)\n",
      "        2    0.000    0.000    0.000    0.000 _methods.py:45(_all)\n",
      "       55    0.000    0.000    0.000    0.000 abc.py:137(__instancecheck__)\n",
      "       30    0.000    0.000    0.000    0.000 abc.py:141(__subclasscheck__)\n",
      "        4    0.000    0.000    0.000    0.000 arraysetops.py:138(_unpack_tuple)\n",
      "        4    0.000    0.000    0.000    0.000 arraysetops.py:151(unique)\n",
      "        4    0.000    0.000    0.000    0.000 arraysetops.py:299(_unique1d)\n",
      "        8    0.000    0.000    0.000    0.000 ast.py:30(parse)\n",
      "        8    0.000    0.000    0.000    0.000 ast.py:38(literal_eval)\n",
      "     64/8    0.000    0.000    0.000    0.000 ast.py:64(_convert)\n",
      "        4    0.000    0.000    0.000    0.000 base.py:1190(isspmatrix)\n",
      "        2    0.000    0.000    0.000    0.000 common.py:1192(wrapped)\n",
      "        6    0.000    0.000    0.000    0.000 common.py:1194(<genexpr>)\n",
      "        2    0.042    0.021    0.042    0.021 common.py:1313(_dot_ndarray_coo)\n",
      "        2    0.000    0.000    0.000    0.000 common.py:135(<listcomp>)\n",
      "        2    0.000    0.000    0.000    0.000 common.py:141(<listcomp>)\n",
      "        2    0.000    0.000    0.000    0.000 common.py:143(<listcomp>)\n",
      "        2    0.000    0.000    0.000    0.000 common.py:149(<listcomp>)\n",
      "        2    0.000    0.000    0.088    0.044 common.py:275(_dot)\n",
      "        4    0.010    0.002    0.010    0.002 common.py:48(linear_loc)\n",
      "        2    0.002    0.001    0.120    0.060 common.py:59(tensordot)\n",
      "        4    0.002    0.000    0.046    0.012 core.py:1193(transpose)\n",
      "        6    0.000    0.000    0.000    0.000 core.py:1263(<genexpr>)\n",
      "        2    0.000    0.000    0.046    0.023 core.py:1273(T)\n",
      "        4    0.001    0.000    0.010    0.003 core.py:1471(linear_loc)\n",
      "        2    0.022    0.011    0.030    0.015 core.py:1503(reshape)\n",
      "        6    0.000    0.000    0.000    0.000 core.py:1547(<genexpr>)\n",
      "        2    0.000    0.000    0.000    0.000 core.py:1549(<listcomp>)\n",
      "        2    0.000    0.000    0.000    0.000 core.py:1550(<listcomp>)\n",
      "        2    0.015    0.007    0.042    0.021 core.py:1707(_sort_indices)\n",
      "        6    0.001    0.000    0.049    0.008 core.py:204(__init__)\n",
      "       10    0.000    0.000    0.000    0.000 core.py:504(dtype)\n",
      "        2    0.000    0.000    0.000    0.000 core.py:530(nnz)\n",
      "       24    0.000    0.000    0.000    0.000 cp437.py:14(decode)\n",
      "      142    0.000    0.000    0.000    0.000 enum.py:628(value)\n",
      "        8    0.000    0.000    0.000    0.000 format.py:178(_check_version)\n",
      "        8    0.000    0.000    0.000    0.000 format.py:208(read_magic)\n",
      "        8    0.000    0.000    0.000    0.000 format.py:262(descr_to_dtype)\n",
      "        8    0.000    0.000    0.002    0.000 format.py:475(_filter_header)\n",
      "        8    0.000    0.000    0.003    0.000 format.py:516(_read_array_header)\n",
      "        8    0.000    0.000    0.000    0.000 format.py:556(<listcomp>)\n",
      "        8    0.007    0.001    0.043    0.005 format.py:648(read_array)\n",
      "       99    0.000    0.000    0.033    0.000 format.py:850(_read_bytes)\n",
      "        8    0.000    0.000    0.000    0.000 fromnumeric.py:2171(all)\n",
      "        2    0.000    0.000    0.000    0.000 fromnumeric.py:2664(prod)\n",
      "        2    0.000    0.000    0.022    0.011 fromnumeric.py:54(_wrapfunc)\n",
      "       10    0.000    0.000    0.000    0.000 fromnumeric.py:69(_wrapreduction)\n",
      "       10    0.000    0.000    0.000    0.000 fromnumeric.py:70(<dictcomp>)\n",
      "        2    0.000    0.000    0.022    0.011 fromnumeric.py:942(argsort)\n",
      "        2    0.001    0.001    0.001    0.001 function_base.py:1149(diff)\n",
      "        2    0.000    0.000    0.049    0.025 io.py:63(load_npz)\n",
      "        2    0.000    0.000    0.000    0.000 npyio.py:107(zipfile_factory)\n",
      "        2    0.000    0.000    0.000    0.000 npyio.py:185(__init__)\n",
      "        2    0.000    0.000    0.000    0.000 npyio.py:206(__enter__)\n",
      "        2    0.000    0.000    0.000    0.000 npyio.py:209(__exit__)\n",
      "        4    0.000    0.000    0.000    0.000 npyio.py:212(close)\n",
      "        2    0.000    0.000    0.000    0.000 npyio.py:225(__del__)\n",
      "        8    0.000    0.000    0.044    0.006 npyio.py:235(__getitem__)\n",
      "        2    0.000    0.000    0.001    0.000 npyio.py:287(load)\n",
      "        2    0.000    0.000    0.000    0.000 npyio.py:88(__init__)\n",
      "        7    0.000    0.000    0.000    0.000 ntpath.py:122(splitdrive)\n",
      "        1    0.000    0.000    0.000    0.000 ntpath.py:178(split)\n",
      "        1    0.000    0.000    0.000    0.000 ntpath.py:219(dirname)\n",
      "        1    0.000    0.000    0.000    0.000 ntpath.py:34(_get_bothseps)\n",
      "        3    0.000    0.000    0.000    0.000 ntpath.py:75(join)\n",
      "       16    0.000    0.000    0.000    0.000 numeric.py:469(asarray)\n",
      "       10    0.000    0.000    0.000    0.000 numeric.py:541(asanyarray)\n",
      "       20    0.000    0.000    0.000    0.000 numerictypes.py:293(issubclass_)\n",
      "       10    0.000    0.000    0.000    0.000 numerictypes.py:365(issubdtype)\n",
      "        8    0.000    0.000    0.000    0.000 py3k.py:38(asstr)\n",
      "        8    0.000    0.000    0.000    0.000 py3k.py:43(isfileobj)\n",
      "        1    0.017    0.017    0.187    0.187 qm.py:134(hamiltonian_sparse)\n",
      "        1    0.001    0.001    0.050    0.050 qm.py:80(so_sparse)\n",
      "      142    0.000    0.000    0.000    0.000 re.py:232(compile)\n",
      "      142    0.000    0.000    0.000    0.000 re.py:271(_compile)\n",
      "        1    0.000    0.000    0.000    0.000 simulation_data.py:51(spin11)\n",
      "        2    0.000    0.000    0.000    0.000 sparse_array.py:107(size)\n",
      "        6    0.000    0.000    0.000    0.000 sparse_array.py:27(__init__)\n",
      "       21    0.000    0.000    0.000    0.000 sparse_array.py:31(<genexpr>)\n",
      "       21    0.000    0.000    0.000    0.000 sparse_array.py:35(<genexpr>)\n",
      "       16    0.000    0.000    0.000    0.000 sparse_array.py:79(ndim)\n",
      "        2    0.000    0.000    0.000    0.000 threading.py:75(RLock)\n",
      "      142    0.000    0.000    0.000    0.000 tokenize.py:147(_compile)\n",
      "        8    0.000    0.000    0.000    0.000 tokenize.py:219(__init__)\n",
      "      150    0.000    0.000    0.000    0.000 tokenize.py:225(add_whitespace)\n",
      "        8    0.000    0.000    0.000    0.000 tokenize.py:238(untokenize)\n",
      "        8    0.000    0.000    0.000    0.000 tokenize.py:312(untokenize)\n",
      "      166    0.000    0.000    0.001    0.000 tokenize.py:487(_tokenize)\n",
      "        8    0.000    0.000    0.000    0.000 tokenize.py:672(generate_tokens)\n",
      "      142    0.000    0.000    0.000    0.000 types.py:164(__get__)\n",
      "        8    0.000    0.000    0.000    0.000 utils.py:1067(safe_eval)\n",
      "     15/4    0.000    0.000    0.000    0.000 utils.py:182(normalize_axis)\n",
      "       15    0.000    0.000    0.000    0.000 utils.py:213(<genexpr>)\n",
      "       15    0.000    0.000    0.000    0.000 utils.py:216(<genexpr>)\n",
      "        2    0.000    0.000    0.000    0.000 utils.py:221(equivalent)\n",
      "        8    0.000    0.000    0.000    0.000 utils.py:252(<genexpr>)\n",
      "        2    0.000    0.000    0.000    0.000 utils.py:261(check_zero_fill_value)\n",
      "        2    0.000    0.000    0.000    0.000 utils.py:54(_zero_of_dtype)\n",
      "       16    0.000    0.000    0.000    0.000 zipfile.py:1008(close)\n",
      "        2    0.000    0.000    0.000    0.000 zipfile.py:1172(__init__)\n",
      "        2    0.000    0.000    0.000    0.000 zipfile.py:1281(_RealGetContents)\n",
      "        2    0.000    0.000    0.000    0.000 zipfile.py:1359(namelist)\n",
      "        2    0.000    0.000    0.000    0.000 zipfile.py:1361(<listcomp>)\n",
      "       16    0.000    0.000    0.000    0.000 zipfile.py:1390(getinfo)\n",
      "       16    0.000    0.000    0.001    0.000 zipfile.py:1431(open)\n",
      "       70    0.000    0.000    0.000    0.000 zipfile.py:1480(<lambda>)\n",
      "        2    0.000    0.000    0.000    0.000 zipfile.py:1787(__del__)\n",
      "        4    0.000    0.000    0.000    0.000 zipfile.py:1791(close)\n",
      "       18    0.000    0.000    0.000    0.000 zipfile.py:1915(_fpclose)\n",
      "        2    0.000    0.000    0.000    0.000 zipfile.py:209(_EndRecData64)\n",
      "        2    0.000    0.000    0.000    0.000 zipfile.py:252(_EndRecData)\n",
      "        8    0.000    0.000    0.000    0.000 zipfile.py:339(__init__)\n",
      "        8    0.000    0.000    0.000    0.000 zipfile.py:456(_decodeExtra)\n",
      "        2    0.000    0.000    0.000    0.000 zipfile.py:663(_check_compression)\n",
      "       16    0.000    0.000    0.000    0.000 zipfile.py:698(_get_decompressor)\n",
      "       16    0.000    0.000    0.000    0.000 zipfile.py:716(__init__)\n",
      "       70    0.000    0.000    0.001    0.000 zipfile.py:735(read)\n",
      "       16    0.000    0.000    0.000    0.000 zipfile.py:746(close)\n",
      "       16    0.000    0.000    0.000    0.000 zipfile.py:787(__init__)\n",
      "      107    0.000    0.000    0.034    0.000 zipfile.py:876(read)\n",
      "       87    0.000    0.000    0.016    0.000 zipfile.py:909(_update_crc)\n",
      "       87    0.001    0.000    0.033    0.000 zipfile.py:956(_read1)\n",
      "       69    0.000    0.000    0.001    0.000 zipfile.py:992(_read2)\n",
      "      158    0.000    0.000    0.000    0.000 {built-in method __new__ of type object at 0x00007FF9E3576BA0}\n",
      "       55    0.000    0.000    0.000    0.000 {built-in method _abc._abc_instancecheck}\n",
      "       30    0.000    0.000    0.000    0.000 {built-in method _abc._abc_subclasscheck}\n",
      "       24    0.000    0.000    0.000    0.000 {built-in method _codecs.charmap_decode}\n",
      "        2    0.000    0.000    0.000    0.000 {built-in method _functools.reduce}\n",
      "        8    0.000    0.000    0.000    0.000 {built-in method _struct.calcsize}\n",
      "       36    0.000    0.000    0.000    0.000 {built-in method _struct.unpack}\n",
      "        2    0.000    0.000    0.000    0.000 {built-in method _weakref.proxy}\n",
      "       10    0.000    0.000    0.000    0.000 {built-in method builtins.all}\n",
      "        4    0.000    0.000    0.000    0.000 {built-in method builtins.any}\n",
      "        8    0.000    0.000    0.000    0.000 {built-in method builtins.chr}\n",
      "        8    0.000    0.000    0.000    0.000 {built-in method builtins.compile}\n",
      "       14    0.000    0.000    0.000    0.000 {built-in method builtins.getattr}\n",
      "       56    0.000    0.000    0.000    0.000 {built-in method builtins.hasattr}\n",
      "      556    0.000    0.000    0.000    0.000 {built-in method builtins.isinstance}\n",
      "       30    0.000    0.000    0.000    0.000 {built-in method builtins.issubclass}\n",
      "       10    0.000    0.000    0.000    0.000 {built-in method builtins.iter}\n",
      "     1342    0.000    0.000    0.000    0.000 {built-in method builtins.len}\n",
      "      125    0.000    0.000    0.000    0.000 {built-in method builtins.max}\n",
      "      123    0.000    0.000    0.000    0.000 {built-in method builtins.min}\n",
      "        8    0.000    0.000    0.000    0.000 {built-in method builtins.sorted}\n",
      "        2    0.001    0.000    0.001    0.000 {built-in method io.open}\n",
      "       13    0.000    0.000    0.000    0.000 {built-in method nt.fspath}\n",
      "       27    0.000    0.000    0.000    0.000 {built-in method numpy.array}\n",
      "        2    0.000    0.000    0.000    0.000 {built-in method numpy.core._multiarray_umath.normalize_axis_index}\n",
      "        6    0.000    0.000    0.000    0.000 {built-in method numpy.empty}\n",
      "       75    0.000    0.000    0.000    0.000 {built-in method numpy.frombuffer}\n",
      "       11    0.000    0.000    0.000    0.000 {built-in method numpy.zeros}\n",
      "      103    0.016    0.000    0.016    0.000 {built-in method zlib.crc32}\n",
      "       16    0.000    0.000    0.000    0.000 {built-in method zlib.decompressobj}\n",
      "       16    0.000    0.000    0.000    0.000 {function ZipExtFile.close at 0x00000248411C97B8}\n",
      "        2    0.000    0.000    0.000    0.000 {method 'all' of 'numpy.ndarray' objects}\n",
      "      388    0.000    0.000    0.000    0.000 {method 'append' of 'list' objects}\n",
      "        2    0.022    0.011    0.022    0.011 {method 'argsort' of 'numpy.ndarray' objects}\n",
      "        6    0.006    0.001    0.006    0.001 {method 'astype' of 'numpy.ndarray' objects}\n",
      "        2    0.000    0.000    0.000    0.000 {method 'close' of '_io.BufferedReader' objects}\n",
      "       32    0.000    0.000    0.000    0.000 {method 'decode' of 'bytes' objects}\n",
      "       87    0.015    0.000    0.015    0.000 {method 'decompress' of 'zlib.Decompress' objects}\n",
      "        1    0.000    0.000    0.000    0.000 {method 'disable' of '_lsprof.Profiler' objects}\n",
      "        8    0.000    0.000    0.000    0.000 {method 'endswith' of 'str' objects}\n",
      "        8    0.000    0.000    0.000    0.000 {method 'find' of 'str' objects}\n",
      "        4    0.000    0.000    0.000    0.000 {method 'flatten' of 'numpy.ndarray' objects}\n",
      "       12    0.000    0.000    0.000    0.000 {method 'flush' of 'zlib.Decompress' objects}\n",
      "       16    0.000    0.000    0.000    0.000 {method 'get' of 'dict' objects}\n",
      "       94    0.000    0.000    0.000    0.000 {method 'isidentifier' of 'str' objects}\n",
      "       10    0.000    0.000    0.000    0.000 {method 'items' of 'dict' objects}\n",
      "        8    0.000    0.000    0.000    0.000 {method 'join' of 'str' objects}\n",
      "        8    0.000    0.000    0.000    0.000 {method 'keys' of 'dict' objects}\n",
      "      142    0.000    0.000    0.000    0.000 {method 'match' of 're.Pattern' objects}\n",
      "       78    0.001    0.000    0.001    0.000 {method 'read' of '_io.BufferedReader' objects}\n",
      "       32    0.000    0.000    0.000    0.000 {method 'read' of '_io.BytesIO' objects}\n",
      "       24    0.000    0.000    0.000    0.000 {method 'readline' of '_io.StringIO' objects}\n",
      "       18    0.000    0.000    0.000    0.000 {method 'reduce' of 'numpy.ufunc' objects}\n",
      "        7    0.000    0.000    0.000    0.000 {method 'replace' of 'str' objects}\n",
      "        4    0.000    0.000    0.000    0.000 {method 'reshape' of 'numpy.ndarray' objects}\n",
      "       12    0.000    0.000    0.000    0.000 {method 'rpartition' of 'str' objects}\n",
      "        1    0.000    0.000    0.000    0.000 {method 'rstrip' of 'str' objects}\n",
      "       80    0.000    0.000    0.000    0.000 {method 'seek' of '_io.BufferedReader' objects}\n",
      "       16    0.000    0.000    0.000    0.000 {method 'seekable' of '_io.BufferedReader' objects}\n",
      "        4    0.000    0.000    0.000    0.000 {method 'sort' of 'numpy.ndarray' objects}\n",
      "      142    0.000    0.000    0.000    0.000 {method 'span' of 're.Match' objects}\n",
      "        2    0.000    0.000    0.000    0.000 {method 'startswith' of 'bytes' objects}\n",
      "       88    0.000    0.000    0.000    0.000 {method 'tell' of '_io.BufferedReader' objects}\n",
      "        2    0.000    0.000    0.000    0.000 {method 'transpose' of 'numpy.ndarray' objects}\n",
      "        2    0.000    0.000    0.000    0.000 {method 'view' of 'numpy.ndarray' objects}\n",
      "\n",
      "\n"
     ]
    }
   ],
   "source": [
    "profiler.print_stats()"
   ]
  },
  {
   "cell_type": "code",
   "execution_count": null,
   "metadata": {},
   "outputs": [],
   "source": [
    "profiler2 = cProfile.Profile()\n",
    "profiler2.runcall(new_h)\n",
    "profiler2.print_stats()"
   ]
  },
  {
   "cell_type": "markdown",
   "metadata": {},
   "source": [
    "You can save your result, then view them later with pstats."
   ]
  },
  {
   "cell_type": "code",
   "execution_count": null,
   "metadata": {},
   "outputs": [],
   "source": [
    "cProfile.run('old_h()', 'old_h.stats')\n",
    "cProfile.run('new_h()', 'new_h.stats')"
   ]
  },
  {
   "cell_type": "code",
   "execution_count": null,
   "metadata": {},
   "outputs": [],
   "source": [
    "cProfile.run('old_s()', 'old_s.stats')\n",
    "cProfile.run('new_s()', 'new_s.stats')"
   ]
  },
  {
   "cell_type": "markdown",
   "metadata": {},
   "source": [
    "Update 2018-05-18: vectorized_simsignals much improved! e.g. of 3.49 s on spin 11, 3.39s spent on intensity_and_energy (the calculation of I and E) and only 0.083s on the conversion to a spectrum!\n",
    "Right now, Hamiltonian is not the bottleneck, and is as fast as it's going to get (for now).\n",
    "In the new simsignals, the eigh is definitely the bottleneck (e.g. 2.8 out of 4.5 s) so probably can't be improved on much. However, of that ~4.5 s, ~0.86 s occurs within simsignals, so presumably in the loop. Can this be vectorized?"
   ]
  },
  {
   "cell_type": "code",
   "execution_count": null,
   "metadata": {},
   "outputs": [],
   "source": [
    "import pstats"
   ]
  },
  {
   "cell_type": "code",
   "execution_count": null,
   "metadata": {},
   "outputs": [],
   "source": [
    "stats = pstats.Stats('new_s.stats')"
   ]
  },
  {
   "cell_type": "code",
   "execution_count": null,
   "metadata": {},
   "outputs": [],
   "source": [
    "stats.print_callees('dot')"
   ]
  },
  {
   "cell_type": "markdown",
   "metadata": {},
   "source": [
    "Easier in jupyter to do this with prun.\n",
    "-l 12 limits to 12 lines"
   ]
  },
  {
   "cell_type": "code",
   "execution_count": 14,
   "metadata": {},
   "outputs": [
    {
     "name": "stdout",
     "output_type": "stream",
     "text": [
      " "
     ]
    },
    {
     "data": {
      "text/plain": [
       "         9474 function calls (9377 primitive calls) in 3.282 seconds\n",
       "\n",
       "   Ordered by: internal time\n",
       "   List reduced from 232 to 12 due to restriction <12>\n",
       "\n",
       "   ncalls  tottime  percall  cumtime  percall filename:lineno(function)\n",
       "        1    2.662    2.662    2.662    2.662 linalg.py:1324(eigh)\n",
       "        1    0.177    0.177    0.177    0.177 {method 'dot' of 'numpy.ndarray' objects}\n",
       "        1    0.137    0.137    0.137    0.137 common.py:1273(_dot_coo_ndarray)\n",
       "        2    0.040    0.020    0.040    0.020 common.py:1313(_dot_ndarray_coo)\n",
       "        1    0.033    0.033    0.072    0.072 qm.py:312(new_compile_spectrum)\n",
       "        2    0.022    0.011    0.022    0.011 {built-in method numpy.where}\n",
       "        2    0.020    0.010    0.020    0.010 {method 'argsort' of 'numpy.ndarray' objects}\n",
       "        3    0.019    0.006    0.025    0.008 core.py:1503(reshape)\n",
       "        1    0.018    0.018    3.083    3.083 qm.py:322(vectorized_simsignals)\n",
       "        1    0.017    0.017    0.175    0.175 qm.py:134(hamiltonian_sparse)\n",
       "      122    0.017    0.000    0.017    0.000 {built-in method zlib.crc32}\n",
       "       98    0.015    0.000    0.015    0.000 {method 'decompress' of 'zlib.Decompress' objects}"
      ]
     },
     "metadata": {},
     "output_type": "display_data"
    }
   ],
   "source": [
    "%%prun -l 12\n",
    "new_s()"
   ]
  },
  {
   "cell_type": "code",
   "execution_count": 15,
   "metadata": {},
   "outputs": [
    {
     "name": "stdout",
     "output_type": "stream",
     "text": [
      " "
     ]
    },
    {
     "data": {
      "text/plain": [
       "         11253 function calls (11151 primitive calls) in 3.161 seconds\n",
       "\n",
       "   Ordered by: internal time\n",
       "   List reduced from 302 to 12 due to restriction <12>\n",
       "\n",
       "   ncalls  tottime  percall  cumtime  percall filename:lineno(function)\n",
       "        1    2.554    2.554    2.554    2.554 linalg.py:1324(eigh)\n",
       "        1    0.186    0.186    0.186    0.186 {method 'dot' of 'numpy.ndarray' objects}\n",
       "        1    0.146    0.146    0.146    0.146 common.py:1273(_dot_coo_ndarray)\n",
       "        1    0.033    0.033    0.073    0.073 qm.py:312(new_compile_spectrum)\n",
       "        4    0.022    0.006    0.022    0.006 {built-in method numpy.where}\n",
       "        9    0.020    0.002    0.020    0.002 {method 'argsort' of 'numpy.ndarray' objects}\n",
       "        7    0.019    0.003    0.026    0.004 core.py:1503(reshape)\n",
       "        3    0.018    0.006    0.018    0.006 {built-in method numpy.copyto}\n",
       "        1    0.018    0.018    2.994    2.994 qm.py:322(vectorized_simsignals)\n",
       "      122    0.017    0.000    0.017    0.000 {built-in method zlib.crc32}\n",
       "       98    0.015    0.000    0.015    0.000 {method 'decompress' of 'zlib.Decompress' objects}\n",
       "        4    0.014    0.004    0.039    0.010 core.py:1707(_sort_indices)"
      ]
     },
     "metadata": {},
     "output_type": "display_data"
    }
   ],
   "source": [
    "%%prun -l 12\n",
    "newer_s()"
   ]
  },
  {
   "cell_type": "code",
   "execution_count": null,
   "metadata": {},
   "outputs": [],
   "source": [
    "stats_new_s = %prun -r new_s()  # -r returns the pstats object"
   ]
  },
  {
   "cell_type": "code",
   "execution_count": null,
   "metadata": {},
   "outputs": [],
   "source": [
    "stats_new_s.print_stats()"
   ]
  },
  {
   "cell_type": "code",
   "execution_count": null,
   "metadata": {},
   "outputs": [],
   "source": [
    "%prun -T stats_new_s.txt new_s()  # -T saves results to file"
   ]
  },
  {
   "cell_type": "code",
   "execution_count": null,
   "metadata": {},
   "outputs": [],
   "source": [
    "%less stats_new_s.txt"
   ]
  },
  {
   "cell_type": "code",
   "execution_count": null,
   "metadata": {},
   "outputs": [],
   "source": [
    "%prun -D stats_new_s.stats new_s()  # saves as binary instead (I think)"
   ]
  },
  {
   "cell_type": "code",
   "execution_count": null,
   "metadata": {},
   "outputs": [],
   "source": [
    "def time_new_s():\n",
    "    start_os_time0 = os.times()[0]\n",
    "    start_time_clock = time.clock()\n",
    "    start_default_timer = timeit.default_timer()\n",
    "    start_perf = time.perf_counter()\n",
    "    start_processtime = time.process_time()\n",
    "    new_s()\n",
    "    duration_os_time0 = os.times()[0] - start_os_time0\n",
    "    duration_time_clock = time.clock() - start_time_clock\n",
    "    duration_default_timer = timeit.default_timer() - start_default_timer\n",
    "    duration_perf = time.perf_counter() - start_perf\n",
    "    duration_processtime = time.process_time() - start_processtime\n",
    "    print('os: ', duration_os_time0)\n",
    "    print('time_clock: ', duration_time_clock)\n",
    "    print('default_timer: ', duration_default_timer)\n",
    "    print('perf: ', duration_perf)\n",
    "    print('processtime: ', duration_processtime)"
   ]
  },
  {
   "cell_type": "code",
   "execution_count": null,
   "metadata": {},
   "outputs": [],
   "source": [
    "time_new_s()"
   ]
  },
  {
   "cell_type": "markdown",
   "metadata": {},
   "source": [
    "Muller's recommendation is to use default_timer, which abstracts OS differences away. Very different behavior btwen Windows and Mac."
   ]
  },
  {
   "cell_type": "code",
   "execution_count": null,
   "metadata": {},
   "outputs": [],
   "source": [
    "%load_ext snakeviz"
   ]
  },
  {
   "cell_type": "code",
   "execution_count": null,
   "metadata": {},
   "outputs": [],
   "source": [
    "time.process_time?"
   ]
  },
  {
   "cell_type": "code",
   "execution_count": null,
   "metadata": {},
   "outputs": [],
   "source": [
    "%snakeviz new_s()"
   ]
  },
  {
   "cell_type": "code",
   "execution_count": null,
   "metadata": {},
   "outputs": [],
   "source": [
    "# %load candidates.py\n",
    "\"\"\"Collection of the current best candidates for nmrtools functions,\n",
    "for testing speed etc.\n",
    "\n",
    "\"\"\"\n",
    "\n",
    "\n",
    "from nmrtools.nmrmath import hamiltonian as current_hamiltonian\n",
    "from nmrtools.nmrmath import simsignals as current_simsignals\n",
    "\n",
    "from speedtest.compare_hamiltonians import hamiltonian_sparse as \\\n",
    "    candidate_hamiltonian\n",
    "from tests.test_simsignals import newer_simsignals as candidate_simsignals\n",
    "\n",
    "\n",
    "if __name__ == '__main__':\n",
    "    import numpy as np\n",
    "    from simulation_data import rioux\n",
    "    current_h = current_hamiltonian(*rioux())\n",
    "    current_spectrum = current_simsignals(current_h, 3)\n",
    "    candidate_h = candidate_hamiltonian(*rioux())\n",
    "    candidate_spectrum = candidate_simsignals(candidate_h, 3)\n",
    "\n",
    "    print(current_spectrum[:10])\n",
    "    print(candidate_spectrum[:10])\n",
    "    assert np.allclose(current_spectrum, candidate_spectrum)\n"
   ]
  },
  {
   "cell_type": "code",
   "execution_count": null,
   "metadata": {},
   "outputs": [],
   "source": [
    "%load_ext line_profiler"
   ]
  },
  {
   "cell_type": "code",
   "execution_count": null,
   "metadata": {},
   "outputs": [],
   "source": [
    "%lprun -f candidate_simsignals candidate_simsignals(new11_h, 11)"
   ]
  },
  {
   "cell_type": "markdown",
   "metadata": {},
   "source": [
    "Update 2018-05-18: new vectorization reduces new_compile_spectrum (vectorization of loop) to only 3% of time! Eigh is the clear bottleneck.\n",
    "kernprof indicates that eigen is bottleneck, but the for loop is not insignificant. Perhaps this can be vectorized at some point?"
   ]
  },
  {
   "cell_type": "code",
   "execution_count": null,
   "metadata": {},
   "outputs": [],
   "source": [
    "from tests.test_simsignals import intensity_and_energy"
   ]
  },
  {
   "cell_type": "code",
   "execution_count": null,
   "metadata": {},
   "outputs": [],
   "source": [
    "%lprun -f intensity_and_energy candidate_simsignals(new11_h, 11)"
   ]
  },
  {
   "cell_type": "markdown",
   "metadata": {},
   "source": [
    "In intensity_and_energy, eigh is 90% of the time, and the matrix multiplication 9.7%."
   ]
  },
  {
   "cell_type": "code",
   "execution_count": null,
   "metadata": {},
   "outputs": [],
   "source": []
  }
 ],
 "metadata": {
  "kernelspec": {
   "display_name": "Python (nmr)",
   "language": "python",
   "name": "nmr"
  },
  "language_info": {
   "codemirror_mode": {
    "name": "ipython",
    "version": 3
   },
   "file_extension": ".py",
   "mimetype": "text/x-python",
   "name": "python",
   "nbconvert_exporter": "python",
   "pygments_lexer": "ipython3",
   "version": "3.7.3"
  }
 },
 "nbformat": 4,
 "nbformat_minor": 2
}
