{
 "cells": [
  {
   "cell_type": "code",
   "execution_count": 1,
   "metadata": {},
   "outputs": [],
   "source": [
    "import numpy as np\n",
    "import scipy\n",
    "from scipy.sparse import csc_matrix, csr_matrix, lil_matrix\n",
    "import sparse\n",
    "\n",
    "from nmrtools.nmrmath import is_allowed, normalize_spectrum, transition_matrix\n",
    "from nmrtools.nmrplot import nmrplot\n",
    "from speedtest.compare_hamiltonians import hamiltonian, hamiltonian_sparse\n",
    "from speedtest.speedutils import timefn\n",
    "\n",
    "from simulation_data import spin8, spin3, spin11, rioux"
   ]
  },
  {
   "cell_type": "code",
   "execution_count": 2,
   "metadata": {},
   "outputs": [
    {
     "name": "stderr",
     "output_type": "stream",
     "text": [
      " 2019-04-27 13:33:29,865 - INFO @timefn:hamiltonian_sparse took 0.4295768737792969 seconds\n",
      " 2019-04-27 13:33:29,895 - INFO @timefn:hamiltonian_sparse took 0.011005163192749023 seconds\n"
     ]
    },
    {
     "name": "stdout",
     "output_type": "stream",
     "text": [
      "@timefn:hamiltonian_sparse took 0.4295768737792969 seconds\n",
      "@timefn:hamiltonian_sparse took 0.011005163192749023 seconds\n"
     ]
    }
   ],
   "source": [
    "H3_MATRIX = hamiltonian(*spin3())\n",
    "H3_NDARRAY = hamiltonian_sparse(*spin3())\n",
    "H8_MATRIX = hamiltonian(*spin8())\n",
    "H8_NDARRAY = hamiltonian_sparse(*spin8())\n",
    "H_RIOUX = hamiltonian(*rioux())"
   ]
  },
  {
   "cell_type": "code",
   "execution_count": 3,
   "metadata": {},
   "outputs": [],
   "source": [
    "@timefn\n",
    "def numpy_eigh(h):\n",
    "    return np.linalg.eigh(h)\n",
    "\n",
    "\n",
    "@timefn\n",
    "def scipy_eigh(h):\n",
    "    return scipy.linalg.eigh(h)"
   ]
  },
  {
   "cell_type": "code",
   "execution_count": 4,
   "metadata": {},
   "outputs": [],
   "source": [
    "def matrix_eigh(h, n):\n",
    "    for i in range(n):\n",
    "        E1, V1 = numpy_eigh(h)\n",
    "        E2, V2 = scipy_eigh(h)\n",
    "    return (E1, V1), (E2, V2)"
   ]
  },
  {
   "cell_type": "code",
   "execution_count": 36,
   "metadata": {},
   "outputs": [
    {
     "name": "stderr",
     "output_type": "stream",
     "text": [
      " 2019-04-27 17:24:13,539 - INFO @timefn:numpy_eigh took 0.001003265380859375 seconds\n",
      " 2019-04-27 17:24:13,540 - INFO @timefn:scipy_eigh took 0.0 seconds\n",
      " 2019-04-27 17:24:13,540 - INFO @timefn:numpy_eigh took 0.0 seconds\n",
      " 2019-04-27 17:24:13,541 - INFO @timefn:scipy_eigh took 0.0 seconds\n"
     ]
    },
    {
     "name": "stdout",
     "output_type": "stream",
     "text": [
      "@timefn:numpy_eigh took 0.001003265380859375 seconds\n",
      "@timefn:scipy_eigh took 0.0 seconds\n",
      "@timefn:numpy_eigh took 0.0 seconds\n",
      "@timefn:scipy_eigh took 0.0 seconds\n"
     ]
    }
   ],
   "source": [
    "matrix_numpy, matrix_scipy = matrix_eigh(H_RIOUX, 1)\n",
    "array_numpy, array_scipy = matrix_eigh(H_RIOUX, 1)\n",
    "_, V_matrix_numpy = matrix_numpy\n",
    "_, V_matrix_scipy = matrix_scipy\n",
    "_, V_array_numpy = array_numpy\n",
    "_, V_array_scipy = array_scipy\n",
    "V = [V_matrix_numpy, V_matrix_scipy, V_array_numpy, V_array_scipy]\n",
    "V_real = [i.real for i in V]\n",
    "for i, j in zip(V, V_real):\n",
    "    assert np.allclose(i, j)"
   ]
  },
  {
   "cell_type": "code",
   "execution_count": 21,
   "metadata": {},
   "outputs": [],
   "source": [
    "def test_ev_matching():\n",
    "    numpy_result, scipy_result = matrix_eigh(H_RIOUX, 1)\n",
    "    E1, V1 = numpy_result\n",
    "    V1_asarray = np.array(V1)\n",
    "    print(type(V1))\n",
    "    print(type(V1_asarray))\n",
    "    E2, V2 = scipy_result\n",
    "    print(type(V2))\n",
    "    assert not np.allclose(V1[:,1], V2[:, 1])\n",
    "    assert np.allclose(V1_asarray[:,1], V2[:,1])\n",
    "    # The different eigenvector solutions have terms differing in sign, which\n",
    "    # apparently is OK. So, testing functional equality by using squares::\n",
    "    V1_ = np.square(V1)\n",
    "    V2_ = np.square(V2)\n",
    "    print(V1_)\n",
    "    print(V2_)\n",
    "    assert np.allclose(V1_, V2_)"
   ]
  },
  {
   "cell_type": "code",
   "execution_count": 23,
   "metadata": {},
   "outputs": [],
   "source": [
    "# test_ev_matching()"
   ]
  },
  {
   "cell_type": "code",
   "execution_count": 30,
   "metadata": {},
   "outputs": [],
   "source": [
    "def transition_matrix(n):\n",
    "    \"\"\"\n",
    "    Creates a matrix of allowed transitions.\n",
    "\n",
    "    The integers 0-`n`, in their binary form, code for a spin state\n",
    "    (alpha/beta). The (i,j) cells in the matrix indicate whether a transition\n",
    "    from spin state i to spin state j is allowed or forbidden.\n",
    "    See the ``is_allowed`` function for more information.\n",
    "\n",
    "    Parameters\n",
    "    ---------\n",
    "    n : dimension of the n,n matrix (i.e. number of possible spin states).\n",
    "\n",
    "    Returns\n",
    "    -------\n",
    "    lil_matrix\n",
    "        a transition matrix that can be used to compute the intensity of\n",
    "    allowed transitions.\n",
    "    \"\"\"\n",
    "    # function was optimized by only calculating upper triangle and then adding\n",
    "    # the lower.\n",
    "    T = lil_matrix((n, n))  # sparse matrix created\n",
    "    print(type(T), ' before operations')\n",
    "    for i in range(n - 1):\n",
    "        for j in range(i + 1, n):\n",
    "            if is_allowed(i, j):\n",
    "                T[i, j] = 1\n",
    "    print(type(T), ' before adding transpose')\n",
    "    T = T + T.T\n",
    "    return T"
   ]
  },
  {
   "cell_type": "code",
   "execution_count": 31,
   "metadata": {},
   "outputs": [
    {
     "name": "stdout",
     "output_type": "stream",
     "text": [
      "<class 'scipy.sparse.lil.lil_matrix'>  before operations\n",
      "<class 'scipy.sparse.lil.lil_matrix'>  before adding transpose\n",
      "<class 'scipy.sparse.csr.csr_matrix'>\n"
     ]
    }
   ],
   "source": [
    "print(type(transition_matrix(8)))"
   ]
  },
  {
   "cell_type": "code",
   "execution_count": 19,
   "metadata": {},
   "outputs": [
    {
     "name": "stdout",
     "output_type": "stream",
     "text": [
      "[[ 0.          0.          0.          0.          0.          0.\n",
      "   0.          1.        ]\n",
      " [ 0.          0.          0.          0.          0.05607604  0.99815514\n",
      "  -0.02327631  0.        ]\n",
      " [ 0.          0.          0.          0.          0.02004006 -0.02443353\n",
      "  -0.99950057  0.        ]\n",
      " [ 0.          0.02119554 -0.05911396 -0.9980262   0.          0.\n",
      "   0.          0.        ]\n",
      " [ 0.          0.          0.          0.         -0.99822536  0.05558157\n",
      "  -0.02137322  0.        ]\n",
      " [ 0.         -0.99959476  0.01771957 -0.0222784   0.          0.\n",
      "   0.          0.        ]\n",
      " [ 0.          0.01900156  0.99809396 -0.05871443  0.          0.\n",
      "   0.          0.        ]\n",
      " [ 1.          0.          0.          0.          0.          0.\n",
      "   0.          0.        ]]\n",
      "[[ 0.          0.          0.          0.          0.          0.\n",
      "   0.          1.        ]\n",
      " [ 0.          0.          0.          0.          0.05607604  0.99815514\n",
      "   0.02327631  0.        ]\n",
      " [ 0.          0.          0.          0.          0.02004006 -0.02443353\n",
      "   0.99950057  0.        ]\n",
      " [ 0.          0.02119554  0.05911396 -0.9980262   0.          0.\n",
      "   0.          0.        ]\n",
      " [ 0.          0.          0.          0.         -0.99822536  0.05558157\n",
      "   0.02137322  0.        ]\n",
      " [ 0.         -0.99959476 -0.01771957 -0.0222784   0.          0.\n",
      "   0.          0.        ]\n",
      " [ 0.          0.01900156 -0.99809396 -0.05871443  0.          0.\n",
      "   0.          0.        ]\n",
      " [ 1.          0.          0.          0.          0.          0.\n",
      "   0.          0.        ]]\n",
      "<class 'numpy.matrix'>\n",
      "<class 'numpy.ndarray'>\n"
     ]
    }
   ],
   "source": [
    "print(V1)\n",
    "print(V2)\n",
    "print(type(V1))\n",
    "print(type(V2))"
   ]
  },
  {
   "cell_type": "code",
   "execution_count": 6,
   "metadata": {},
   "outputs": [
    {
     "name": "stderr",
     "output_type": "stream",
     "text": [
      " 2019-04-27 13:34:34,821 - INFO @timefn:numpy_eigh took 0.002997159957885742 seconds\n",
      " 2019-04-27 13:34:34,822 - INFO @timefn:scipy_eigh took 0.0 seconds\n"
     ]
    },
    {
     "name": "stdout",
     "output_type": "stream",
     "text": [
      "@timefn:numpy_eigh took 0.002997159957885742 seconds\n",
      "@timefn:scipy_eigh took 0.0 seconds\n",
      "(8, 8)\n",
      "(8, 8)\n",
      "-491.625\n",
      "[[0. 0. 0. 0. 0. 0. 0. 1.]]\n",
      "--------------------\n",
      "-230.96347142517027\n",
      "[[ 0.          0.          0.          0.          0.05607604  0.99815514\n",
      "  -0.02327631  0.        ]]\n",
      "--------------------\n",
      "-200.30588633096843\n",
      "[[ 0.          0.          0.          0.          0.02004006 -0.02443353\n",
      "  -0.99950057  0.        ]]\n",
      "--------------------\n",
      "-72.10564224386131\n",
      "[[ 0.          0.02119554 -0.05911396 -0.9980262   0.          0.\n",
      "   0.          0.        ]]\n",
      "--------------------\n",
      "61.88341711576846\n",
      "[[ 0.          0.          0.          0.         -0.99822536  0.05558157\n",
      "  -0.02137322  0.        ]]\n",
      "--------------------\n",
      "195.52427326502007\n",
      "[[ 0.         -0.99959476  0.01771957 -0.0222784   0.          0.\n",
      "   0.          0.        ]]\n",
      "--------------------\n",
      "234.21730961921148\n",
      "[[ 0.          0.01900156  0.99809396 -0.05871443  0.          0.\n",
      "   0.          0.        ]]\n",
      "--------------------\n",
      "503.375\n",
      "[[1. 0. 0. 0. 0. 0. 0. 0.]]\n",
      "--------------------\n",
      "========================================\n",
      "-491.625\n",
      "[]\n",
      "--------------------\n",
      "-230.96347142517027\n",
      "[[0. 0. 0. 0. 0. 0. 0. 1.]]\n",
      "--------------------\n",
      "-200.30588633096843\n",
      "[[ 0.          0.          0.          0.          0.          0.\n",
      "   0.          1.        ]\n",
      " [ 0.          0.          0.          0.          0.05607604  0.99815514\n",
      "  -0.02327631  0.        ]]\n",
      "--------------------\n",
      "-72.10564224386131\n",
      "[[ 0.          0.          0.          0.          0.          0.\n",
      "   0.          1.        ]\n",
      " [ 0.          0.          0.          0.          0.05607604  0.99815514\n",
      "  -0.02327631  0.        ]\n",
      " [ 0.          0.          0.          0.          0.02004006 -0.02443353\n",
      "  -0.99950057  0.        ]]\n",
      "--------------------\n",
      "61.88341711576846\n",
      "[[ 0.          0.          0.          0.          0.          0.\n",
      "   0.          1.        ]\n",
      " [ 0.          0.          0.          0.          0.05607604  0.99815514\n",
      "  -0.02327631  0.        ]\n",
      " [ 0.          0.          0.          0.          0.02004006 -0.02443353\n",
      "  -0.99950057  0.        ]\n",
      " [ 0.          0.02119554 -0.05911396 -0.9980262   0.          0.\n",
      "   0.          0.        ]]\n",
      "--------------------\n",
      "195.52427326502007\n",
      "[[ 0.          0.          0.          0.          0.          0.\n",
      "   0.          1.        ]\n",
      " [ 0.          0.          0.          0.          0.05607604  0.99815514\n",
      "  -0.02327631  0.        ]\n",
      " [ 0.          0.          0.          0.          0.02004006 -0.02443353\n",
      "  -0.99950057  0.        ]\n",
      " [ 0.          0.02119554 -0.05911396 -0.9980262   0.          0.\n",
      "   0.          0.        ]\n",
      " [ 0.          0.          0.          0.         -0.99822536  0.05558157\n",
      "  -0.02137322  0.        ]]\n",
      "--------------------\n",
      "234.21730961921148\n",
      "[[ 0.          0.          0.          0.          0.          0.\n",
      "   0.          1.        ]\n",
      " [ 0.          0.          0.          0.          0.05607604  0.99815514\n",
      "  -0.02327631  0.        ]\n",
      " [ 0.          0.          0.          0.          0.02004006 -0.02443353\n",
      "  -0.99950057  0.        ]\n",
      " [ 0.          0.02119554 -0.05911396 -0.9980262   0.          0.\n",
      "   0.          0.        ]\n",
      " [ 0.          0.          0.          0.         -0.99822536  0.05558157\n",
      "  -0.02137322  0.        ]\n",
      " [ 0.         -0.99959476  0.01771957 -0.0222784   0.          0.\n",
      "   0.          0.        ]]\n",
      "--------------------\n",
      "503.375\n",
      "[[ 0.          0.          0.          0.          0.          0.\n",
      "   0.          1.        ]\n",
      " [ 0.          0.          0.          0.          0.05607604  0.99815514\n",
      "  -0.02327631  0.        ]\n",
      " [ 0.          0.          0.          0.          0.02004006 -0.02443353\n",
      "  -0.99950057  0.        ]\n",
      " [ 0.          0.02119554 -0.05911396 -0.9980262   0.          0.\n",
      "   0.          0.        ]\n",
      " [ 0.          0.          0.          0.         -0.99822536  0.05558157\n",
      "  -0.02137322  0.        ]\n",
      " [ 0.         -0.99959476  0.01771957 -0.0222784   0.          0.\n",
      "   0.          0.        ]\n",
      " [ 0.          0.01900156  0.99809396 -0.05871443  0.          0.\n",
      "   0.          0.        ]]\n",
      "--------------------\n"
     ]
    },
    {
     "ename": "AssertionError",
     "evalue": "",
     "output_type": "error",
     "traceback": [
      "\u001b[1;31m---------------------------------------------------------------------------\u001b[0m",
      "\u001b[1;31mAssertionError\u001b[0m                            Traceback (most recent call last)",
      "\u001b[1;32m<ipython-input-6-9ea0a0f65e09>\u001b[0m in \u001b[0;36m<module>\u001b[1;34m\u001b[0m\n\u001b[1;32m----> 1\u001b[1;33m \u001b[0mtest_ev_matching\u001b[0m\u001b[1;33m(\u001b[0m\u001b[1;33m)\u001b[0m\u001b[1;33m\u001b[0m\u001b[1;33m\u001b[0m\u001b[0m\n\u001b[0m",
      "\u001b[1;32m<ipython-input-5-a0cf2d0f0df8>\u001b[0m in \u001b[0;36mtest_ev_matching\u001b[1;34m()\u001b[0m\n\u001b[0;32m     26\u001b[0m     \u001b[1;31m# print(E1[1], V1[:1])\u001b[0m\u001b[1;33m\u001b[0m\u001b[1;33m\u001b[0m\u001b[1;33m\u001b[0m\u001b[0m\n\u001b[0;32m     27\u001b[0m     \u001b[1;31m# print(E2[1], V2[:1])\u001b[0m\u001b[1;33m\u001b[0m\u001b[1;33m\u001b[0m\u001b[1;33m\u001b[0m\u001b[0m\n\u001b[1;32m---> 28\u001b[1;33m     \u001b[1;32massert\u001b[0m \u001b[0mnp\u001b[0m\u001b[1;33m.\u001b[0m\u001b[0marray_equal\u001b[0m\u001b[1;33m(\u001b[0m\u001b[0mV1\u001b[0m\u001b[1;33m[\u001b[0m\u001b[1;36m1\u001b[0m\u001b[1;33m]\u001b[0m\u001b[1;33m,\u001b[0m \u001b[0mV2\u001b[0m\u001b[1;33m[\u001b[0m\u001b[1;33m:\u001b[0m\u001b[1;36m1\u001b[0m\u001b[1;33m]\u001b[0m\u001b[1;33m)\u001b[0m\u001b[1;33m\u001b[0m\u001b[1;33m\u001b[0m\u001b[0m\n\u001b[0m",
      "\u001b[1;31mAssertionError\u001b[0m: "
     ]
    }
   ],
   "source": [
    "test_ev_matching()"
   ]
  },
  {
   "cell_type": "code",
   "execution_count": null,
   "metadata": {},
   "outputs": [],
   "source": []
  }
 ],
 "metadata": {
  "kernelspec": {
   "display_name": "Python (nmr)",
   "language": "python",
   "name": "nmr"
  },
  "language_info": {
   "codemirror_mode": {
    "name": "ipython",
    "version": 3
   },
   "file_extension": ".py",
   "mimetype": "text/x-python",
   "name": "python",
   "nbconvert_exporter": "python",
   "pygments_lexer": "ipython3",
   "version": "3.7.3"
  }
 },
 "nbformat": 4,
 "nbformat_minor": 2
}
