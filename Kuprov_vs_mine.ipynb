{
 "cells": [
  {
   "cell_type": "markdown",
   "metadata": {},
   "source": [
    "Purpose: translate Kuprov's algorithm to Python, and compare with mine for speed."
   ]
  },
  {
   "cell_type": "code",
   "execution_count": 1,
   "metadata": {},
   "outputs": [],
   "source": [
    "from scipy.sparse import lil_matrix"
   ]
  },
  {
   "cell_type": "code",
   "execution_count": 2,
   "metadata": {},
   "outputs": [],
   "source": [
    "from simulation_data import spin8"
   ]
  },
  {
   "cell_type": "code",
   "execution_count": 3,
   "metadata": {},
   "outputs": [],
   "source": [
    "from speedtest.kuprov import kuprov_H_csr, kuprov_H_lil, kuprov_H_dense"
   ]
  },
  {
   "cell_type": "code",
   "execution_count": 4,
   "metadata": {},
   "outputs": [],
   "source": [
    "v = [430, 265, 300]\n",
    "J = lil_matrix((3, 3))\n",
    "J[0, 1] = 7\n",
    "J[0, 2] = 15\n",
    "J[1, 2] = 1.5\n",
    "J = J + J.T"
   ]
  },
  {
   "cell_type": "code",
   "execution_count": 5,
   "metadata": {},
   "outputs": [
    {
     "name": "stdout",
     "output_type": "stream",
     "text": [
      "7.18 s ± 59.2 ms per loop (mean ± std. dev. of 7 runs, 1 loop each)\n"
     ]
    },
    {
     "name": "stderr",
     "output_type": "stream",
     "text": [
      "/Users/geoffreysametz/anaconda/envs/qm/lib/python3.6/site-packages/scipy/sparse/data.py:71: ComplexWarning: Casting complex values to real discards the imaginary part\n",
      "  self._deduped_data().astype(dtype, casting=casting, copy=copy),\n"
     ]
    },
    {
     "name": "stdout",
     "output_type": "stream",
     "text": [
      "7.32 s ± 54 ms per loop (mean ± std. dev. of 7 runs, 1 loop each)\n",
      "289 ms ± 3.38 ms per loop (mean ± std. dev. of 7 runs, 1 loop each)\n",
      "csr:  7.176118292857739\n",
      "lil:  7.323263165857497\n",
      "dense:  0.2885223420006306\n"
     ]
    }
   ],
   "source": [
    "csr_result = %timeit -o kuprov_H_csr(*spin8())\n",
    "lil_result = %timeit -o kuprov_H_lil(*spin8())\n",
    "dense_result = %timeit -o kuprov_H_dense(*spin8())\n",
    "print('csr: ', csr_result.average)\n",
    "print('lil: ', lil_result.average)\n",
    "print('dense: ', dense_result.average)"
   ]
  },
  {
   "cell_type": "code",
   "execution_count": 6,
   "metadata": {},
   "outputs": [
    {
     "name": "stderr",
     "output_type": "stream",
     "text": [
      "/Users/geoffreysametz/anaconda/envs/qm/lib/python3.6/importlib/_bootstrap.py:219: RuntimeWarning: numpy.dtype size changed, may indicate binary incompatibility. Expected 88 from C header, got 96 from PyObject\n",
      "  return f(*args, **kwds)\n"
     ]
    }
   ],
   "source": [
    "from nmrtools.nmrmath import sparse_hamiltonian"
   ]
  },
  {
   "cell_type": "code",
   "execution_count": 7,
   "metadata": {},
   "outputs": [
    {
     "name": "stdout",
     "output_type": "stream",
     "text": [
      "h8 loaded\n",
      "h8 loaded\n",
      "h8 loaded\n",
      "h8 loaded\n",
      "h8 loaded\n",
      "h8 loaded\n",
      "h8 loaded\n",
      "h8 loaded\n",
      "h8 loaded\n",
      "h8 loaded\n",
      "h8 loaded\n",
      "h8 loaded\n",
      "h8 loaded\n",
      "h8 loaded\n",
      "h8 loaded\n",
      "h8 loaded\n",
      "h8 loaded\n",
      "h8 loaded\n",
      "h8 loaded\n",
      "h8 loaded\n",
      "h8 loaded\n",
      "h8 loaded\n",
      "h8 loaded\n",
      "h8 loaded\n",
      "h8 loaded\n",
      "h8 loaded\n",
      "h8 loaded\n",
      "h8 loaded\n",
      "h8 loaded\n",
      "h8 loaded\n",
      "h8 loaded\n",
      "h8 loaded\n",
      "h8 loaded\n",
      "h8 loaded\n",
      "h8 loaded\n",
      "h8 loaded\n",
      "h8 loaded\n",
      "h8 loaded\n",
      "h8 loaded\n",
      "h8 loaded\n",
      "h8 loaded\n",
      "h8 loaded\n",
      "h8 loaded\n",
      "h8 loaded\n",
      "h8 loaded\n",
      "h8 loaded\n",
      "h8 loaded\n",
      "h8 loaded\n",
      "h8 loaded\n",
      "h8 loaded\n",
      "h8 loaded\n",
      "h8 loaded\n",
      "h8 loaded\n",
      "h8 loaded\n",
      "h8 loaded\n",
      "h8 loaded\n",
      "h8 loaded\n",
      "h8 loaded\n",
      "h8 loaded\n",
      "h8 loaded\n",
      "h8 loaded\n",
      "h8 loaded\n",
      "h8 loaded\n",
      "h8 loaded\n",
      "h8 loaded\n",
      "h8 loaded\n",
      "h8 loaded\n",
      "h8 loaded\n",
      "h8 loaded\n",
      "h8 loaded\n",
      "h8 loaded\n",
      "h8 loaded\n",
      "h8 loaded\n",
      "h8 loaded\n",
      "h8 loaded\n",
      "h8 loaded\n",
      "h8 loaded\n",
      "h8 loaded\n",
      "h8 loaded\n",
      "h8 loaded\n",
      "h8 loaded\n",
      "21.8 ms ± 613 µs per loop (mean ± std. dev. of 7 runs, 10 loops each)\n",
      "mine:  0.02175076498575176\n"
     ]
    }
   ],
   "source": [
    "my_result = %timeit -o sparse_hamiltonian(*spin8())\n",
    "print('mine: ', my_result.average)"
   ]
  },
  {
   "cell_type": "code",
   "execution_count": 8,
   "metadata": {},
   "outputs": [],
   "source": [
    "from nmrtools.nmrmath import hamiltonian"
   ]
  },
  {
   "cell_type": "code",
   "execution_count": 9,
   "metadata": {},
   "outputs": [
    {
     "name": "stdout",
     "output_type": "stream",
     "text": [
      "420 ms ± 14.8 ms per loop (mean ± std. dev. of 7 runs, 1 loop each)\n",
      "mine:  0.41999043328645974\n"
     ]
    }
   ],
   "source": [
    "my_result = %timeit -o hamiltonian(*spin8())\n",
    "print('mine: ', my_result.average)"
   ]
  },
  {
   "cell_type": "code",
   "execution_count": null,
   "metadata": {},
   "outputs": [],
   "source": []
  }
 ],
 "metadata": {
  "kernelspec": {
   "display_name": "Python [conda env:qm]",
   "language": "python",
   "name": "conda-env-qm-py"
  },
  "language_info": {
   "codemirror_mode": {
    "name": "ipython",
    "version": 3
   },
   "file_extension": ".py",
   "mimetype": "text/x-python",
   "name": "python",
   "nbconvert_exporter": "python",
   "pygments_lexer": "ipython3",
   "version": "3.6.6"
  }
 },
 "nbformat": 4,
 "nbformat_minor": 2
}
